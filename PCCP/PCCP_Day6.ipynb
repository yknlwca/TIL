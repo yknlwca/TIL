{
 "cells": [
  {
   "cell_type": "code",
   "execution_count": 1,
   "metadata": {},
   "outputs": [
    {
     "name": "stdout",
     "output_type": "stream",
     "text": [
      "1\n"
     ]
    }
   ],
   "source": [
    "def func_name(input):\n",
    "    # 기능\n",
    "\n",
    "    return '결과값'\n",
    "# function scope\n",
    "\n",
    "a = 1\n",
    "print(a)"
   ]
  },
  {
   "cell_type": "code",
   "execution_count": 8,
   "metadata": {},
   "outputs": [
    {
     "name": "stdout",
     "output_type": "stream",
     "text": [
      "[1, 2, 3]\n",
      "1\n",
      "[1, 2, 3]\n",
      "3\n",
      "1\n",
      "[100, 2, 3]\n"
     ]
    }
   ],
   "source": [
    "# global 과 function 의 차이\n",
    "# 1층 과 2층으로 생각\n",
    "# 1층(global)에서 2층(function)을 볼수 있지만\n",
    "# 2층(function)에서 1층(global)을 볼 수 없다\n",
    "a=4\n",
    "a=1 # 재할당(덮어씌우기)\n",
    "lst = [1,2,3]\n",
    "print(lst)\n",
    "print(a)\n",
    "def func():\n",
    "    lst[0] = 100\n",
    "    # lst = [100,1,2] 이건 리스트에 재할당 다른 개념\n",
    "    a=3\n",
    "    print(a)\n",
    "print(lst)\n",
    "func()\n",
    "print(a)\n",
    "print(lst)\n",
    "# a -> 재할당 lst -> [0]을 바꾼게 저장\n",
    "# 프로그래밍에서는 있어서는 안됨 / 알고리즘 분석 제외\n",
    "# local -> enclose -> global -> bulit_in (LEGB 룰) 가장 가까운 곳으로 찾아간다."
   ]
  },
  {
   "cell_type": "code",
   "execution_count": 9,
   "metadata": {},
   "outputs": [
    {
     "name": "stdout",
     "output_type": "stream",
     "text": [
      "5\n",
      "5\n"
     ]
    }
   ],
   "source": [
    "lst = [1,2,3,4,5]\n",
    "print(max(lst))\n",
    "print(len(lst))\n",
    "# def func():을 사용해서 만들어 보자"
   ]
  },
  {
   "cell_type": "code",
   "execution_count": 41,
   "metadata": {},
   "outputs": [
    {
     "name": "stdout",
     "output_type": "stream",
     "text": [
      "8\n",
      "8\n",
      "40\n"
     ]
    }
   ],
   "source": [
    "# len,sum  직접 만들어 보기\n",
    "lst = [1,2,3,10,4,5,6,9]\n",
    "def my_len(lst):\n",
    "    count = 0\n",
    "    for _ in lst:\n",
    "        count = count +1\n",
    "    return count\n",
    "print(my_len(lst))\n",
    "\n",
    "def my_len(x):\n",
    "    j = 0\n",
    "    for i in x:\n",
    "       j += 1\n",
    "    return j\n",
    "print(my_len(lst))\n",
    "\n",
    "def my_sum(lst):\n",
    "    total = 0\n",
    "    for num in lst:\n",
    "        total = total + num\n",
    "    return total\n",
    "\n",
    "def my_sum(x):\n",
    "    j=0\n",
    "    for i in x :\n",
    "        j += i\n",
    "    return j\n",
    "print(my_sum(lst))"
   ]
  },
  {
   "cell_type": "code",
   "execution_count": 43,
   "metadata": {},
   "outputs": [
    {
     "name": "stdout",
     "output_type": "stream",
     "text": [
      "10\n",
      "1\n"
     ]
    }
   ],
   "source": [
    "# max,min 함수 직접 만들어보기\n",
    "lst = [1,2,3,10,4,5,6,9]\n",
    "\n",
    "def my_max(x):\n",
    "    # max_num = float('-inf') 음의 무한대\n",
    "    max_num = lst[0] \n",
    "    for num in x:\n",
    "        # if num < max_num:\n",
    "        #     max_num = max_num  # 의미 없는 과정\n",
    "        if num > max_num:\n",
    "            max_num = num\n",
    "        # if num == max_num:\n",
    "        #     max_num=max_num    # 의미 없는 과정\n",
    "        # num과 max_num 비교 / 큰 녀석 남기는 과정\n",
    "    return max_num\n",
    "print(my_max(lst))\n",
    "\n",
    "\n",
    "def my_min(x):\n",
    "    min_num = lst[0]\n",
    "    for num in x:\n",
    "        if num < min_num:\n",
    "            min_num = num\n",
    "    return min_num\n",
    "print(my_min(lst))"
   ]
  },
  {
   "cell_type": "code",
   "execution_count": 45,
   "metadata": {},
   "outputs": [
    {
     "data": {
      "text/plain": [
       "[9, 6, 5, 4, 10, 3, 2, 1]"
      ]
     },
     "execution_count": 45,
     "metadata": {},
     "output_type": "execute_result"
    }
   ],
   "source": [
    "# reversed 함수 직접 만들어 보기\n",
    "def my_reversed(lst):\n",
    "    reversed_lst = []\n",
    "    for index in range(my_len(lst)-1,-1,-1):\n",
    "        num = lst[index]\n",
    "        reversed_lst.append(num)\n",
    "    return reversed_lst\n",
    "my_reversed(lst)"
   ]
  },
  {
   "cell_type": "code",
   "execution_count": null,
   "metadata": {},
   "outputs": [],
   "source": [
    "# input\n",
    "n = input()\n"
   ]
  },
  {
   "cell_type": "code",
   "execution_count": 51,
   "metadata": {},
   "outputs": [
    {
     "name": "stdout",
     "output_type": "stream",
     "text": [
      "[[2, 4, 6, 8, 10, 12, 14, 16, 18], [3, 6, 9, 12, 15, 18, 21, 24, 27], [4, 8, 12, 16, 20, 24, 28, 32, 36], [5, 10, 15, 20, 25, 30, 35, 40, 45], [6, 12, 18, 24, 30, 36, 42, 48, 54], [7, 14, 21, 28, 35, 42, 49, 56, 63], [8, 16, 24, 32, 40, 48, 56, 64, 72], [9, 18, 27, 36, 45, 54, 63, 72, 81]]\n"
     ]
    }
   ],
   "source": [
    "lst_gugu = []\n",
    "for i in range(2,10):\n",
    "    lst = []\n",
    "    for i in range(i,i*9+1,i):\n",
    "        lst.append(i)\n",
    "    lst_gugu.append(lst)\n",
    "print(lst_gugu)"
   ]
  },
  {
   "cell_type": "code",
   "execution_count": 63,
   "metadata": {},
   "outputs": [
    {
     "name": "stdout",
     "output_type": "stream",
     "text": [
      "[[2, 4, 6, 8, 10, 12, 14, 16, 18], [3, 6, 9, 12, 15, 18, 21, 24, 27], [4, 8, 12, 16, 20, 24, 28, 32, 36], [5, 10, 15, 20, 25, 30, 35, 40, 45], [6, 12, 18, 24, 30, 36, 42, 48, 54], [7, 14, 21, 28, 35, 42, 49, 56, 63], [8, 16, 24, 32, 40, 48, 56, 64, 72], [9, 18, 27, 36, 45, 54, 63, 72, 81], [], [19, 38, 57, 76, 95, 114, 133, 152, 171, 190, 209, 228, 247, 266, 285, 304, 323, 342, 361]]\n"
     ]
    }
   ],
   "source": [
    "lst_gugu = []\n",
    "for i in range(2,20):\n",
    "    lst = []\n",
    "    if i <= 9 :\n",
    "        for i in range(i,i*9+1,i):\n",
    "            lst.append(i)\n",
    "        lst_gugu.append(lst)\n",
    "    lst1 = []\n",
    "    if i > 9 :\n",
    "        for i in range(i,i*19+1,i):\n",
    "            lst1.append(i)          \n",
    "lst_gugu.append(lst)\n",
    "lst_gugu.append(lst1)\n",
    "print(lst_gugu)"
   ]
  },
  {
   "cell_type": "markdown",
   "metadata": {},
   "source": []
  },
  {
   "cell_type": "code",
   "execution_count": null,
   "metadata": {},
   "outputs": [],
   "source": []
  },
  {
   "cell_type": "code",
   "execution_count": null,
   "metadata": {},
   "outputs": [],
   "source": []
  },
  {
   "cell_type": "code",
   "execution_count": null,
   "metadata": {},
   "outputs": [],
   "source": []
  },
  {
   "cell_type": "code",
   "execution_count": null,
   "metadata": {},
   "outputs": [],
   "source": []
  }
 ],
 "metadata": {
  "kernelspec": {
   "display_name": "Python 3",
   "language": "python",
   "name": "python3"
  },
  "language_info": {
   "codemirror_mode": {
    "name": "ipython",
    "version": 3
   },
   "file_extension": ".py",
   "mimetype": "text/x-python",
   "name": "python",
   "nbconvert_exporter": "python",
   "pygments_lexer": "ipython3",
   "version": "3.9.13"
  }
 },
 "nbformat": 4,
 "nbformat_minor": 2
}
