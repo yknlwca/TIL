{
 "cells": [
  {
   "cell_type": "code",
   "execution_count": 1,
   "metadata": {},
   "outputs": [
    {
     "name": "stdout",
     "output_type": "stream",
     "text": [
      "11\n",
      "None 12\n"
     ]
    }
   ],
   "source": [
    "# x에다가 1을 더해줍니다.\n",
    "# 그 녀석을 우리에게 보여줍니다.\n",
    "def add_1_and_print(x):\n",
    "    print(x+1)\n",
    "\n",
    "def add_2(x):\n",
    "    return x+2\n",
    "\n",
    "# print의 경우, 개발할 떄 우리가 값을 확인하기 위해서\n",
    "# 또는 알고리즘 문제에서 '출력하시오' 라고 되어있을때\n",
    "# 등등 ..만 사용\n",
    "\n",
    "y = add_1_and_print(10)\n",
    "z = add_2(10)\n",
    "print(y,z)"
   ]
  },
  {
   "cell_type": "code",
   "execution_count": 7,
   "metadata": {},
   "outputs": [
    {
     "name": "stdout",
     "output_type": "stream",
     "text": [
      "[[0, 0, 0, 0, 0],\n",
      " [0, 0, 0, 0, 0],\n",
      " [0, 0, 0, 0, 0],\n",
      " [0, 0, 0, 0, 0],\n",
      " [0, 0, 0, 0, 0]]\n",
      "\n",
      "[[100, 0, 0, 0, 0],\n",
      " [0, 0, 0, 0, 0],\n",
      " [0, 0, 0, 0, 0],\n",
      " [0, 0, 0, 0, 0],\n",
      " [0, 0, 0, 0, 0]]\n"
     ]
    }
   ],
   "source": [
    "# 사다리 타기\n",
    "from pprint import pprint\n",
    "n = 5\n",
    "# grid = [[0]*4]*4\n",
    "# pprint(grid)\n",
    "# grid[0][0]=1\n",
    "# pprint(grid)\n",
    "# 잘못된 방식\n",
    "\n",
    "\n",
    "# grid = []\n",
    "# small_grid = [0]*n\n",
    "# for _ in range(5):\n",
    "#     grid.append(small_grid)\n",
    "\n",
    "grid = []\n",
    "for _ in range(n):\n",
    "    small_grid = [0]*n\n",
    "    grid.append(small_grid)\n",
    "pprint(grid)\n",
    "grid[0][0] = 100\n",
    "print()\n",
    "pprint(grid)\n"
   ]
  },
  {
   "cell_type": "code",
   "execution_count": 12,
   "metadata": {},
   "outputs": [
    {
     "data": {
      "text/plain": [
       "[[0, 0, 0, 0, 0],\n",
       " [0, 0, 0, 0, 0],\n",
       " [0, 0, 0, 0, 0],\n",
       " [0, 0, 0, 0, 0],\n",
       " [0, 0, 0, 0, 0],\n",
       " [0, 0, 0, 0, 0]]"
      ]
     },
     "execution_count": 12,
     "metadata": {},
     "output_type": "execute_result"
    }
   ],
   "source": [
    "# 최종 형태\n",
    "grid = [[0]*n for _ in range(n)]\n",
    "grid = [[0]*5 for _ in range(6)]\n",
    "grid"
   ]
  },
  {
   "cell_type": "code",
   "execution_count": 14,
   "metadata": {},
   "outputs": [
    {
     "name": "stdout",
     "output_type": "stream",
     "text": [
      "3 1\n",
      "[100, 2, 3] [100, 2, 3]\n",
      "[100, 2, 3] [1, 2, 3]\n"
     ]
    }
   ],
   "source": [
    "a = 1\n",
    "b = a\n",
    "a = 3\n",
    "print(a,b)\n",
    "\n",
    "lst1 = [1,2,3]\n",
    "lst2 = lst1\n",
    "lst1[0] = 100\n",
    "print(lst1,lst2)\n",
    "# lst2 라는 것은 lst1의 원소의 값만 가져오고 싶다.\n",
    "# lst2 = []\n",
    "# for i in lst1:\n",
    "#     lst2.append(i)\n",
    "\n",
    "# 얕은 복사(shallow copy) 1차원일떄 가능\n",
    "lst1 = [1,2,3]\n",
    "lst2 = lst1[:]\n",
    "lst1[0] = 100\n",
    "print(lst1,lst2)"
   ]
  },
  {
   "cell_type": "code",
   "execution_count": 18,
   "metadata": {},
   "outputs": [
    {
     "name": "stdout",
     "output_type": "stream",
     "text": [
      "[[100, 2], [3, 4]]\n",
      "[[100, 2], [3, 4]]\n",
      "[[100, 2], [3, 4]]\n",
      "[[100, 2], [3, 4]]\n"
     ]
    }
   ],
   "source": [
    "# 2차원일때 불가능\n",
    "mat1 = [[1,2,],[3,4]]\n",
    "mat2 = mat1\n",
    "mat1[0][0] = 100\n",
    "print(mat1)\n",
    "print(mat2)\n",
    "\n",
    "\n",
    "mat1 = [[1,2,],[3,4]]\n",
    "mat2 = mat1[:]\n",
    "mat1[0][0] = 100\n",
    "print(mat1)\n",
    "print(mat2)\n"
   ]
  },
  {
   "cell_type": "code",
   "execution_count": 19,
   "metadata": {},
   "outputs": [],
   "source": [
    "from copy import deepcopy\n",
    "# 얕은 카피(shallow copy)를 recursive하게 하면 됩니다."
   ]
  },
  {
   "cell_type": "code",
   "execution_count": 24,
   "metadata": {},
   "outputs": [
    {
     "name": "stdout",
     "output_type": "stream",
     "text": [
      "[1, 6]\n",
      "[3, 7]\n",
      "[6, 2]\n",
      "[7, 100]\n",
      "[9, 635]\n"
     ]
    }
   ],
   "source": [
    "# n,m 을 입력받아서, 무언가를 해라.\n",
    "# a = input()\n",
    "# print(a)\n",
    "\n",
    "\n",
    "# 5\n",
    "# 1 6\n",
    "# 3 7\n",
    "# 6 2\n",
    "# 7 100\n",
    "# 9 635\n",
    "\n",
    "\n",
    "T = int(input())\n",
    "for _ in range(T):\n",
    "    x = input().split()\n",
    "    # new_lst = []\n",
    "    # for i in x:\n",
    "    #     new_lst.append(int(i))\n",
    "    # new_lst = [int(char) for char in x]\n",
    "    x = list(map(int,x))\n",
    "    print(x)"
   ]
  },
  {
   "cell_type": "code",
   "execution_count": 34,
   "metadata": {},
   "outputs": [
    {
     "ename": "NameError",
     "evalue": "name 'm' is not defined",
     "output_type": "error",
     "traceback": [
      "\u001b[1;31m---------------------------------------------------------------------------\u001b[0m",
      "\u001b[1;31mNameError\u001b[0m                                 Traceback (most recent call last)",
      "\u001b[1;32mc:\\Users\\spdlq\\OneDrive\\바탕 화면\\PCCP\\PCCP_Day7.ipynb Cell 8\u001b[0m line \u001b[0;36m1\n\u001b[1;32m----> <a href='vscode-notebook-cell:/c%3A/Users/spdlq/OneDrive/%EB%B0%94%ED%83%95%20%ED%99%94%EB%A9%B4/PCCP/PCCP_Day7.ipynb#X10sZmlsZQ%3D%3D?line=0'>1</a>\u001b[0m x \u001b[39m=\u001b[39m \u001b[39mint\u001b[39m(\u001b[39minput\u001b[39m(n,m))\n\u001b[0;32m      <a href='vscode-notebook-cell:/c%3A/Users/spdlq/OneDrive/%EB%B0%94%ED%83%95%20%ED%99%94%EB%A9%B4/PCCP/PCCP_Day7.ipynb#X10sZmlsZQ%3D%3D?line=1'>2</a>\u001b[0m lst \u001b[39m=\u001b[39m []\n\u001b[0;32m      <a href='vscode-notebook-cell:/c%3A/Users/spdlq/OneDrive/%EB%B0%94%ED%83%95%20%ED%99%94%EB%A9%B4/PCCP/PCCP_Day7.ipynb#X10sZmlsZQ%3D%3D?line=2'>3</a>\u001b[0m \u001b[39mfor\u001b[39;00m i \u001b[39min\u001b[39;00m \u001b[39mrange\u001b[39m(x):\n",
      "\u001b[1;31mNameError\u001b[0m: name 'm' is not defined"
     ]
    }
   ],
   "source": [
    " = int(input(n,m))\n",
    "lst = []\n",
    "for i in range(x):\n",
    "    output_lst = lst.append(list(range(m+(n-1)*m,n*m+1)))\n",
    "    print(output_lst)\n"
   ]
  },
  {
   "cell_type": "code",
   "execution_count": 42,
   "metadata": {},
   "outputs": [
    {
     "name": "stdout",
     "output_type": "stream",
     "text": [
      "[[1, 2, 3], [4, 5, 6], [7, 8, 9], [10, 11, 12]]\n"
     ]
    }
   ],
   "source": [
    "a,b = map(int,input().split())\n",
    "lst1 = []\n",
    "k = 0\n",
    "for _ in range(a):\n",
    "    lst2 = []\n",
    "    for i in range(b):\n",
    "        k += 1\n",
    "        lst2.append(k)\n",
    "    lst1.append(lst2)\n",
    "print(lst1)"
   ]
  },
  {
   "cell_type": "code",
   "execution_count": null,
   "metadata": {},
   "outputs": [],
   "source": []
  }
 ],
 "metadata": {
  "kernelspec": {
   "display_name": "Python 3",
   "language": "python",
   "name": "python3"
  },
  "language_info": {
   "codemirror_mode": {
    "name": "ipython",
    "version": 3
   },
   "file_extension": ".py",
   "mimetype": "text/x-python",
   "name": "python",
   "nbconvert_exporter": "python",
   "pygments_lexer": "ipython3",
   "version": "3.9.13"
  }
 },
 "nbformat": 4,
 "nbformat_minor": 2
}
