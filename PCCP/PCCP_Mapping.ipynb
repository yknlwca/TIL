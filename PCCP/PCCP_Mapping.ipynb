{
 "cells": [
  {
   "cell_type": "markdown",
   "metadata": {},
   "source": [
    "# 전처리\n"
   ]
  },
  {
   "cell_type": "code",
   "execution_count": 1,
   "metadata": {},
   "outputs": [
    {
     "name": "stdout",
     "output_type": "stream",
     "text": [
      "1 3 5 8\n",
      "['1', '3', '5', '8']\n",
      "[1, 3, 5, 8]\n"
     ]
    }
   ],
   "source": [
    "value = input()\n",
    "print(value)\n",
    "value = value.split()\n",
    "print(value)\n",
    "lst=[]\n",
    "for num in value:\n",
    "    lst.append(int(num))\n",
    "print(lst)"
   ]
  },
  {
   "cell_type": "markdown",
   "metadata": {},
   "source": [
    "# mapping"
   ]
  },
  {
   "cell_type": "code",
   "execution_count": 11,
   "metadata": {},
   "outputs": [],
   "source": [
    "# container의 원소들을 각각 func에 통과시켜서\n",
    "# 결과값들은 list와 비슷한 형태로 만들어 줌\n",
    "# 단, map 이라는 형태로 감싸주기 떄문에, 눈으로 보기 위해서는\n",
    "# list로 형변환을 다시 시켜줘야 함."
   ]
  },
  {
   "cell_type": "code",
   "execution_count": 15,
   "metadata": {},
   "outputs": [],
   "source": [
    "# x, y, z, r = value\n",
    "# x = value[0]\n",
    "# value = list(map(int,value))\n",
    "# print(value)"
   ]
  },
  {
   "cell_type": "code",
   "execution_count": 16,
   "metadata": {},
   "outputs": [],
   "source": [
    "# value = list(map(int,input().split()))\n",
    "# print(value)"
   ]
  },
  {
   "cell_type": "code",
   "execution_count": 9,
   "metadata": {},
   "outputs": [
    {
     "name": "stdout",
     "output_type": "stream",
     "text": [
      "[[1, 2, 3]]\n"
     ]
    }
   ],
   "source": [
    "# n,m = list(map(int,input().split()))\n",
    "# print(n,m)\n",
    "mat=[]\n",
    "for _ in range(n):\n",
    "    lst = list(map(int,input().split()))\n",
    "    mat.append(lst)\n",
    "print(mat)"
   ]
  },
  {
   "cell_type": "code",
   "execution_count": 6,
   "metadata": {},
   "outputs": [
    {
     "name": "stdout",
     "output_type": "stream",
     "text": [
      "[[1, 2, 3], [4, 5, 6], [7, 8, 9], [10, 11, 12]]\n"
     ]
    }
   ],
   "source": [
    "# [value(x) for x in container\n",
    "mat=[list(map(int,input().split())) for _ in range(n)]\n",
    "print(mat)"
   ]
  },
  {
   "cell_type": "code",
   "execution_count": 32,
   "metadata": {},
   "outputs": [
    {
     "name": "stdout",
     "output_type": "stream",
     "text": [
      "True\n"
     ]
    }
   ],
   "source": [
    "x = int(input('숫 자 입 력'))\n",
    "\n",
    "def pelind(x):\n",
    "    str_x = str(x)\n",
    "    rever_x = str_x[::-1]\n",
    "    return str_x == rever_x\n",
    "# if pelind(x):\n",
    "#     print(\"yes\")\n",
    "# else:\n",
    "#     print(\"no\")\n",
    "print(pelind(x))"
   ]
  },
  {
   "cell_type": "code",
   "execution_count": 31,
   "metadata": {},
   "outputs": [
    {
     "name": "stdout",
     "output_type": "stream",
     "text": [
      "no\n"
     ]
    }
   ],
   "source": [
    "penli = int(input('숫 자 입 력'))\n",
    "\n",
    "while 1:\n",
    "    str_penli = str(penli)\n",
    "    rever_penli = str_penli[::-1]\n",
    "    if rever_penli == str_penli:\n",
    "        print('yes')\n",
    "    else:\n",
    "        print('no')\n",
    "    break"
   ]
  },
  {
   "cell_type": "code",
   "execution_count": 35,
   "metadata": {},
   "outputs": [
    {
     "name": "stdout",
     "output_type": "stream",
     "text": [
      "['1', '2', '3', '2', '1']\n",
      "['1', '2', '3', '2', '1']\n",
      "yes\n"
     ]
    }
   ],
   "source": [
    "s = '12321'\n",
    "# S가 어떻게 하면 팰린드롬이지?\n",
    "# S를 뒤집어 보자\n",
    "# s.reverse() reverse는 리스트에 쓰이는 함수\n",
    "s = list(s)\n",
    "print(s)\n",
    "s.reverse()\n",
    "print(s)\n",
    "if s == s[::-1]:\n",
    "    print('yes')\n",
    "else:\n",
    "    print('no')"
   ]
  },
  {
   "cell_type": "code",
   "execution_count": null,
   "metadata": {},
   "outputs": [],
   "source": [
    "while 1:\n",
    "    s = input()\n",
    "    if s == '0': # 0이 아니라 '0' 이다 조심!\n",
    "        break\n",
    "    s = list(s)\n",
    "    if s == s[::-1]:\n",
    "        print('yes')\n",
    "    else:\n",
    "        print('no')"
   ]
  },
  {
   "cell_type": "code",
   "execution_count": null,
   "metadata": {},
   "outputs": [],
   "source": [
    "# 앞에서 부터 읽어도 같고 뒤에서 부터 읽어도 같다\n",
    "x[0] == x[-1]\n",
    "x[1] == x[-2]\n",
    "x[i] == x[-(i+1)]"
   ]
  },
  {
   "cell_type": "code",
   "execution_count": 39,
   "metadata": {},
   "outputs": [
    {
     "name": "stdout",
     "output_type": "stream",
     "text": [
      "no\n"
     ]
    }
   ],
   "source": [
    "s='12312341'\n",
    "is_pelindrome = True\n",
    "for index in range(len(s)//2):\n",
    "    compare_index= -(index+1)\n",
    "    if s[index] != s[compare_index]:\n",
    "        is_pelindrome = False\n",
    "        break\n",
    "if is_pelindrome:\n",
    "    print('yes')\n",
    "else:\n",
    "    print('no')  "
   ]
  },
  {
   "cell_type": "code",
   "execution_count": null,
   "metadata": {},
   "outputs": [],
   "source": [
    "s = '12312415'\n",
    "start_index = 0\n",
    "end_index = len(s)-1  # -1로 해도 상관 없지만, 멈추는 조건이 달라진다\n",
    "while 1:\n",
    "    # s,e 비교\n",
    "    # 만약 두개가 다르다 ? 아니다\n",
    "    # s가 e보다 커지면 멈추자\n",
    "    if s[start_index] != s[end_index]:\n",
    "        is_pelindrome = False\n",
    "        break\n",
    "    # s는 1씩 커지고 e는 1씩 작아진다.\n",
    "    start_index += 1\n",
    "    end_index -= 1\n",
    "    if start_index >= end_index :\n",
    "        break"
   ]
  },
  {
   "cell_type": "code",
   "execution_count": null,
   "metadata": {},
   "outputs": [],
   "source": []
  },
  {
   "cell_type": "code",
   "execution_count": null,
   "metadata": {},
   "outputs": [],
   "source": []
  }
 ],
 "metadata": {
  "kernelspec": {
   "display_name": "Python 3",
   "language": "python",
   "name": "python3"
  },
  "language_info": {
   "codemirror_mode": {
    "name": "ipython",
    "version": 3
   },
   "file_extension": ".py",
   "mimetype": "text/x-python",
   "name": "python",
   "nbconvert_exporter": "python",
   "pygments_lexer": "ipython3",
   "version": "3.9.13"
  }
 },
 "nbformat": 4,
 "nbformat_minor": 2
}
