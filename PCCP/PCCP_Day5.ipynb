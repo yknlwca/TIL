{
 "cells": [
  {
   "cell_type": "code",
   "execution_count": 1,
   "metadata": {},
   "outputs": [],
   "source": [
    "# input->함수->return\n",
    "# def func_name(input):\n",
    "    # 기능을 하는 코드\n",
    "    # 재료인 input을 사용해서\n",
    "\n",
    "    # return 결과값\n",
    "def add_1(x): # x = input\n",
    "    y = x +1\n",
    "    return y # y = output\n",
    "# input, output 은 선택이다.\n",
    "# 기능은 function의 의의이기 때문에 생략할 필요가 없다."
   ]
  },
  {
   "cell_type": "code",
   "execution_count": 3,
   "metadata": {},
   "outputs": [
    {
     "name": "stdout",
     "output_type": "stream",
     "text": [
      "False\n"
     ]
    }
   ],
   "source": [
    "# 소수를 판별하는 함수\n",
    "def check_prime(n): # n 은 매개변수(parameter)\n",
    "    is_prime = True\n",
    "    for num in range(2,n):\n",
    "        if n % num == 0:\n",
    "            is_prime = False\n",
    "    return is_prime\n",
    "is_prime_18 = check_prime(18) # 18 은 인자(argument)\n",
    "print(is_prime_18)"
   ]
  },
  {
   "cell_type": "code",
   "execution_count": null,
   "metadata": {},
   "outputs": [],
   "source": [
    "# scope : 사용 가능한 범위\n",
    "# LEGB : Local , Enclosing , Global , Bulit-in"
   ]
  }
 ],
 "metadata": {
  "kernelspec": {
   "display_name": "Python 3",
   "language": "python",
   "name": "python3"
  },
  "language_info": {
   "codemirror_mode": {
    "name": "ipython",
    "version": 3
   },
   "file_extension": ".py",
   "mimetype": "text/x-python",
   "name": "python",
   "nbconvert_exporter": "python",
   "pygments_lexer": "ipython3",
   "version": "3.9.13"
  }
 },
 "nbformat": 4,
 "nbformat_minor": 2
}
