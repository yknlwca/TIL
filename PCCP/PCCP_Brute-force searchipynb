{
 "cells": [
  {
   "cell_type": "code",
   "execution_count": 25,
   "metadata": {},
   "outputs": [
    {
     "name": "stdout",
     "output_type": "stream",
     "text": [
      "245\n"
     ]
    }
   ],
   "source": [
    "# 브루트 포스 -> 싹다 해봐\n",
    "N = int(input())\n",
    "# print(N+(N%10)+((N//10)%10)+(N//10**2))\n",
    "def div_sum(N):\n",
    "    result = N\n",
    "    for num in str(N):\n",
    "        result += int(num)\n",
    "    return result\n",
    "flag = '실패'\n",
    "for num in range(N):\n",
    "    if div_sum(num) ==N :\n",
    "        print(num)\n",
    "        flag = '성공'\n",
    "        break\n",
    "if flag == '실패' :\n",
    "    print(0)\n",
    "# else :\n",
    "#     print(0)\n",
    "# 기능 : 어떤 숫자가 주어졌을 때 그것의 분해합을 구하는 기능\n"
   ]
  },
  {
   "cell_type": "code",
   "execution_count": null,
   "metadata": {},
   "outputs": [],
   "source": [
    "# 1초에 천만 계산"
   ]
  },
  {
   "cell_type": "markdown",
   "metadata": {},
   "source": [
    "# 정렬\n",
    "* 선택 정렬"
   ]
  },
  {
   "cell_type": "code",
   "execution_count": 54,
   "metadata": {},
   "outputs": [
    {
     "name": "stdout",
     "output_type": "stream",
     "text": [
      "[5, 2, 4, 6, 1, 8, 9]\n"
     ]
    }
   ],
   "source": [
    "# lst = list(map(int,input().split()))\n",
    "lst = [5,2,4,6,9,8,1]\n",
    "for i in range(len(lst)):\n",
    "    lst[len(lst)-1-i],lst[lst.index(max(lst))] = lst[lst.index(max(lst))],lst[len(lst)-1-i]\n",
    "print(lst)"
   ]
  },
  {
   "cell_type": "code",
   "execution_count": 62,
   "metadata": {},
   "outputs": [
    {
     "name": "stdout",
     "output_type": "stream",
     "text": [
      "[3, 5, 6, 7, 8, 9, 10]\n"
     ]
    }
   ],
   "source": [
    "lst = [10,5,3,8,7,6,9]\n",
    "index = 0 # 교체할 위치에 대한 index\n",
    "for index in range(len(lst)):\n",
    "    min_index = index # 가장 작은 숫자가 들어갈 index\n",
    "    for i in range(index,len(lst)):\n",
    "        if lst[i] < lst[min_index]: # 비교\n",
    "            min_index = i # 작은 녀석 저장\n",
    "    lst[min_index], lst[index] = lst[index], lst[min_index] # 반복이 끝나면, 가장 작은 녀석에 대한 index와 초기의 index와 교체\n",
    "print(lst)"
   ]
  },
  {
   "cell_type": "code",
   "execution_count": 83,
   "metadata": {},
   "outputs": [
    {
     "name": "stdout",
     "output_type": "stream",
     "text": [
      "4\n"
     ]
    }
   ],
   "source": [
    "# 2869\n",
    "A, B, V = map(int,input().split())\n",
    "day = ((V-A)/(A-B)) + 1\n",
    "if day != int(day):\n",
    "    day = int(day)+1\n",
    "print(int(day))"
   ]
  },
  {
   "cell_type": "code",
   "execution_count": 89,
   "metadata": {},
   "outputs": [
    {
     "ename": "TypeError",
     "evalue": "'ascending' is an invalid keyword argument for sort()",
     "output_type": "error",
     "traceback": [
      "\u001b[1;31m---------------------------------------------------------------------------\u001b[0m",
      "\u001b[1;31mTypeError\u001b[0m                                 Traceback (most recent call last)",
      "\u001b[1;32mc:\\Users\\spdlq\\OneDrive\\바탕 화면\\PCCP\\PCCP_Day10.ipynb Cell 7\u001b[0m line \u001b[0;36m7\n\u001b[0;32m      <a href='vscode-notebook-cell:/c%3A/Users/spdlq/OneDrive/%EB%B0%94%ED%83%95%20%ED%99%94%EB%A9%B4/PCCP/PCCP_Day10.ipynb#W6sZmlsZQ%3D%3D?line=4'>5</a>\u001b[0m     A, B \u001b[39m=\u001b[39m \u001b[39mmap\u001b[39m(\u001b[39mint\u001b[39m,\u001b[39minput\u001b[39m()\u001b[39m.\u001b[39msplit())\n\u001b[0;32m      <a href='vscode-notebook-cell:/c%3A/Users/spdlq/OneDrive/%EB%B0%94%ED%83%95%20%ED%99%94%EB%A9%B4/PCCP/PCCP_Day10.ipynb#W6sZmlsZQ%3D%3D?line=5'>6</a>\u001b[0m     points\u001b[39m.\u001b[39mappend((A,B))\n\u001b[1;32m----> <a href='vscode-notebook-cell:/c%3A/Users/spdlq/OneDrive/%EB%B0%94%ED%83%95%20%ED%99%94%EB%A9%B4/PCCP/PCCP_Day10.ipynb#W6sZmlsZQ%3D%3D?line=6'>7</a>\u001b[0m sort_points \u001b[39m=\u001b[39m \u001b[39msorted\u001b[39;49m(points, ascending \u001b[39m=\u001b[39;49m \u001b[39mFalse\u001b[39;49;00m)\n\u001b[0;32m      <a href='vscode-notebook-cell:/c%3A/Users/spdlq/OneDrive/%EB%B0%94%ED%83%95%20%ED%99%94%EB%A9%B4/PCCP/PCCP_Day10.ipynb#W6sZmlsZQ%3D%3D?line=7'>8</a>\u001b[0m \u001b[39mprint\u001b[39m(points)\n",
      "\u001b[1;31mTypeError\u001b[0m: 'ascending' is an invalid keyword argument for sort()"
     ]
    }
   ],
   "source": [
    "# 11651\n",
    "N = int(input())\n",
    "points = []\n",
    "for _ in range(N):\n",
    "    A, B = map(int,input().split())\n",
    "    points.append((A,B))\n",
    "sort_points = sorted(points)\n",
    "print(points)"
   ]
  },
  {
   "cell_type": "code",
   "execution_count": 90,
   "metadata": {},
   "outputs": [
    {
     "name": "stdout",
     "output_type": "stream",
     "text": [
      "1 -1\n",
      "1 2\n",
      "2 2\n",
      "3 3\n",
      "0 4\n"
     ]
    }
   ],
   "source": [
    "# 입력 받기\n",
    "N = int(input())\n",
    "points = []\n",
    "\n",
    "for _ in range(N):\n",
    "    x, y = map(int, input().split())\n",
    "    points.append((x, y))\n",
    "\n",
    "# y 좌표를 기준으로 오름차순 정렬하고, y가 같으면 x 좌표를 기준으로 오름차순 정렬\n",
    "sorted_points = sorted(points, key=lambda point: (point[1], point[0]))\n",
    "\n",
    "# 정렬된 결과 출력\n",
    "for x, y in sorted_points:\n",
    "    print(x, y)\n"
   ]
  },
  {
   "cell_type": "code",
   "execution_count": null,
   "metadata": {},
   "outputs": [],
   "source": []
  }
 ],
 "metadata": {
  "kernelspec": {
   "display_name": "Python 3",
   "language": "python",
   "name": "python3"
  },
  "language_info": {
   "codemirror_mode": {
    "name": "ipython",
    "version": 3
   },
   "file_extension": ".py",
   "mimetype": "text/x-python",
   "name": "python",
   "nbconvert_exporter": "python",
   "pygments_lexer": "ipython3",
   "version": "3.9.13"
  }
 },
 "nbformat": 4,
 "nbformat_minor": 2
}
