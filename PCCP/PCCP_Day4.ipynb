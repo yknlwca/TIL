{
 "cells": [
  {
   "cell_type": "markdown",
   "metadata": {},
   "source": [
    "* [3,6,9]를 만드시오."
   ]
  },
  {
   "cell_type": "code",
   "execution_count": 1,
   "metadata": {},
   "outputs": [
    {
     "name": "stdout",
     "output_type": "stream",
     "text": [
      "3\n",
      "6\n",
      "9\n"
     ]
    }
   ],
   "source": [
    "for i in range(1,4):\n",
    "    print(i*3)\n"
   ]
  },
  {
   "cell_type": "code",
   "execution_count": 5,
   "metadata": {},
   "outputs": [
    {
     "name": "stdout",
     "output_type": "stream",
     "text": [
      "[3, 6, 9]\n"
     ]
    }
   ],
   "source": [
    "lst=[]\n",
    "for i in range(1,4):\n",
    "    #lst = [] 반복 안에 만들면 안됨!\n",
    "    lst.append(i*3)\n",
    "print(lst)"
   ]
  },
  {
   "cell_type": "markdown",
   "metadata": {},
   "source": [
    "# for, while 둘다 반복\n",
    "1) for :\n",
    "* container에 대해서 반복을 진행한다.\n",
    "* container - 여러개의 data가 들어있는 구조\n",
    "* 여러 개의 data에서 하나씩 뽑아서 그 data를 특정 변수에 저장한 후 반복을 진행한다.\n",
    "2) while : \n",
    "* 특정 조건에 따라서 반복을 진행합니다.\n",
    "* 즉, 반복이 멈추기 위해서는 조건이 변경이 되어야 한다.\n",
    "* 무한 루프 조심 "
   ]
  },
  {
   "cell_type": "code",
   "execution_count": 10,
   "metadata": {},
   "outputs": [
    {
     "name": "stdout",
     "output_type": "stream",
     "text": [
      "1\n",
      "2\n",
      "3\n",
      "4\n",
      "5\n"
     ]
    }
   ],
   "source": [
    "# 숫자 1,2,3,4,5를 출력하시오.\n",
    "for num in range(1,6):\n",
    "    print(num)"
   ]
  },
  {
   "cell_type": "code",
   "execution_count": 11,
   "metadata": {},
   "outputs": [
    {
     "name": "stdout",
     "output_type": "stream",
     "text": [
      "1\n",
      "2\n",
      "3\n",
      "4\n",
      "5\n"
     ]
    }
   ],
   "source": [
    "num = 1\n",
    "while num <= 5 :\n",
    "    print(num)\n",
    "    num = num+1"
   ]
  },
  {
   "cell_type": "code",
   "execution_count": 12,
   "metadata": {},
   "outputs": [
    {
     "name": "stdout",
     "output_type": "stream",
     "text": [
      "1\n",
      "2\n",
      "3\n",
      "4\n",
      "5\n"
     ]
    }
   ],
   "source": [
    "num = 0\n",
    "while num <5:\n",
    "    num = num +1\n",
    "    print(num)"
   ]
  },
  {
   "cell_type": "markdown",
   "metadata": {},
   "source": [
    "# break\n",
    "* 반복을 멈추는 작용을 함."
   ]
  },
  {
   "cell_type": "code",
   "execution_count": 13,
   "metadata": {},
   "outputs": [
    {
     "name": "stdout",
     "output_type": "stream",
     "text": [
      "1\n",
      "2\n",
      "3\n",
      "4\n",
      "5\n"
     ]
    }
   ],
   "source": [
    "num = 0\n",
    "while True :\n",
    "    num = num+1\n",
    "    print(num)\n",
    "    if num == 5 :\n",
    "        break"
   ]
  },
  {
   "cell_type": "markdown",
   "metadata": {},
   "source": [
    "* for / while \n",
    "* while 큰 범위\n",
    "* for 보다 작은 범위"
   ]
  },
  {
   "cell_type": "code",
   "execution_count": 14,
   "metadata": {},
   "outputs": [
    {
     "name": "stdout",
     "output_type": "stream",
     "text": [
      "j\n",
      "a\n",
      "k\n"
     ]
    }
   ],
   "source": [
    "names = [\"j\",\"a\",\"k\"]\n",
    "for name in names:\n",
    "    print(name)"
   ]
  },
  {
   "cell_type": "code",
   "execution_count": 15,
   "metadata": {},
   "outputs": [
    {
     "name": "stdout",
     "output_type": "stream",
     "text": [
      "j\n",
      "a\n",
      "k\n"
     ]
    }
   ],
   "source": [
    "index = 0\n",
    "while 1:\n",
    "    name = names[index]\n",
    "    print(name)\n",
    "    index += 1\n",
    "    if index == len(names): #index가 마지막에 다다랐을때:\n",
    "        break"
   ]
  },
  {
   "cell_type": "code",
   "execution_count": 17,
   "metadata": {},
   "outputs": [
    {
     "name": "stdout",
     "output_type": "stream",
     "text": [
      "j\n",
      "a\n",
      "k\n"
     ]
    }
   ],
   "source": [
    "index = 0 \n",
    "while index < len(names):\n",
    "    name = names[index]\n",
    "    print(name)\n",
    "    index += 1"
   ]
  },
  {
   "cell_type": "markdown",
   "metadata": {},
   "source": [
    "# continue\n",
    "* 다음 반복으로 강제 이동"
   ]
  },
  {
   "cell_type": "code",
   "execution_count": 18,
   "metadata": {},
   "outputs": [
    {
     "name": "stdout",
     "output_type": "stream",
     "text": [
      "2\n",
      "4\n"
     ]
    }
   ],
   "source": [
    "# 숫자가 2,4이면 출력하고 1,3이면 출력 하지마라.\n",
    "for i in range(1,5):\n",
    "    if i ==2 or i ==4:\n",
    "        print(i)    "
   ]
  },
  {
   "cell_type": "code",
   "execution_count": 19,
   "metadata": {},
   "outputs": [
    {
     "name": "stdout",
     "output_type": "stream",
     "text": [
      "2\n",
      "4\n"
     ]
    }
   ],
   "source": [
    "for i in range(1,5):\n",
    "    if i ==1 or i ==3:\n",
    "        continue # 실행하지말고 다음으로 넘어가라\n",
    "    print(i)"
   ]
  },
  {
   "cell_type": "code",
   "execution_count": 22,
   "metadata": {},
   "outputs": [
    {
     "data": {
      "text/plain": [
       "{'name': 'jun', 'age': 18, 'gender': 'M'}"
      ]
     },
     "execution_count": 22,
     "metadata": {},
     "output_type": "execute_result"
    }
   ],
   "source": [
    "dic = {\"name\":\"jun\",\"age\": 18, \"gender\":\"M\"}\n",
    "dic"
   ]
  },
  {
   "cell_type": "code",
   "execution_count": 24,
   "metadata": {},
   "outputs": [],
   "source": [
    "dic[\"name\"]\n",
    "dic[\"height\"] = 188"
   ]
  },
  {
   "cell_type": "code",
   "execution_count": 27,
   "metadata": {},
   "outputs": [
    {
     "name": "stdout",
     "output_type": "stream",
     "text": [
      "name\n",
      "jun\n",
      "age\n",
      "18\n",
      "gender\n",
      "M\n",
      "height\n",
      "188\n"
     ]
    }
   ],
   "source": [
    "for i in dic:\n",
    "    print(i)\n",
    "    print(dic[i])\n",
    "# 키가 저장된다.\n",
    "# 데이터는 어떻게 가져올까?"
   ]
  },
  {
   "cell_type": "code",
   "execution_count": 28,
   "metadata": {},
   "outputs": [
    {
     "name": "stdout",
     "output_type": "stream",
     "text": [
      "jun\n",
      "18\n",
      "M\n",
      "188\n"
     ]
    }
   ],
   "source": [
    "for value in dic.values():\n",
    "    print(value)\n",
    "# 값만 가져오기"
   ]
  },
  {
   "cell_type": "code",
   "execution_count": 29,
   "metadata": {},
   "outputs": [
    {
     "name": "stdout",
     "output_type": "stream",
     "text": [
      "name\n",
      "age\n",
      "gender\n",
      "height\n"
     ]
    }
   ],
   "source": [
    "for key in dic.keys():\n",
    "    print(key)"
   ]
  },
  {
   "cell_type": "code",
   "execution_count": 30,
   "metadata": {},
   "outputs": [
    {
     "name": "stdout",
     "output_type": "stream",
     "text": [
      "name jun\n",
      "age 18\n",
      "gender M\n",
      "height 188\n"
     ]
    }
   ],
   "source": [
    "for key, value in dic.items():\n",
    "    print(key,value)"
   ]
  },
  {
   "cell_type": "code",
   "execution_count": 91,
   "metadata": {},
   "outputs": [
    {
     "name": "stdout",
     "output_type": "stream",
     "text": [
      "0 번째 손님 :  jun\n",
      "1 번째 손님 :  alex\n",
      "2 번째 손님 :  ken\n"
     ]
    }
   ],
   "source": [
    "# 1.\n",
    "names = [\"jun\",\"alex\",\"ken\"]\n",
    "for i in range(3):\n",
    "    name = names[i]\n",
    "    print( i,\"번째 손님 : \",name)"
   ]
  },
  {
   "cell_type": "code",
   "execution_count": 88,
   "metadata": {},
   "outputs": [
    {
     "name": "stdout",
     "output_type": "stream",
     "text": [
      "0번째 손님 : jun\n",
      "1번째 손님 : alex\n",
      "2번째 손님 : ken\n"
     ]
    }
   ],
   "source": [
    "for index, name in enumerate(names):\n",
    "    print(f\"{index}번째 손님 : {name}\")"
   ]
  },
  {
   "cell_type": "code",
   "execution_count": 55,
   "metadata": {},
   "outputs": [
    {
     "name": "stdout",
     "output_type": "stream",
     "text": [
      "0 번째 손님 : jun\n",
      "1 번째 손님 : alex\n",
      "2 번째 손님 : ken\n"
     ]
    }
   ],
   "source": [
    "index = 0\n",
    "while index<len(names) :\n",
    "    name = names[index] \n",
    "    print(index,\"번째 손님 :\",name)\n",
    "    index +=1"
   ]
  },
  {
   "cell_type": "code",
   "execution_count": 95,
   "metadata": {},
   "outputs": [
    {
     "name": "stdout",
     "output_type": "stream",
     "text": [
      "3 6 9 12 15 18 21 24 27 \n",
      "안녕\n"
     ]
    }
   ],
   "source": [
    "# 2.\n",
    "for i in range(1,10):\n",
    "   #print(i*3)\n",
    "    print(i*3,end=\" \")\n",
    "# print() end없애기\n",
    "# print(\"안녕\")    "
   ]
  },
  {
   "cell_type": "code",
   "execution_count": 96,
   "metadata": {},
   "outputs": [
    {
     "name": "stdout",
     "output_type": "stream",
     "text": [
      "3\n",
      "6\n",
      "9\n",
      "12\n",
      "15\n",
      "18\n",
      "21\n",
      "24\n",
      "27\n"
     ]
    }
   ],
   "source": [
    "for i in range(3,3*10,3):\n",
    "    print(i)"
   ]
  },
  {
   "cell_type": "code",
   "execution_count": 102,
   "metadata": {},
   "outputs": [
    {
     "name": "stdout",
     "output_type": "stream",
     "text": [
      "3 6 9 12 15 18 21 24 27\n"
     ]
    }
   ],
   "source": [
    "dan_3 = list(range(3,3*10,3))\n",
    "print(*dan_3) # 리스트 대괄호를 빼고 출력하는 방식.\n",
    "# packing, unpacking - asterisk(*)을 활용한 방식."
   ]
  },
  {
   "cell_type": "code",
   "execution_count": 64,
   "metadata": {},
   "outputs": [
    {
     "name": "stdout",
     "output_type": "stream",
     "text": [
      "3\n",
      "6\n",
      "9\n",
      "12\n",
      "15\n",
      "18\n",
      "21\n",
      "24\n",
      "27\n"
     ]
    }
   ],
   "source": [
    "num = 3\n",
    "while num < 28 :\n",
    "    print(num)\n",
    "    num = num+3"
   ]
  },
  {
   "cell_type": "code",
   "execution_count": 11,
   "metadata": {},
   "outputs": [
    {
     "name": "stdout",
     "output_type": "stream",
     "text": [
      "3\n",
      "6\n",
      "9\n",
      "12\n",
      "15\n",
      "18\n",
      "21\n",
      "24\n",
      "27\n",
      "30\n",
      "33\n",
      "36\n",
      "39\n"
     ]
    }
   ],
   "source": [
    "# 2.a\n",
    "num = 1\n",
    "while 3*num <= 40:\n",
    "    print(3*num)\n",
    "    num += 1"
   ]
  },
  {
   "cell_type": "code",
   "execution_count": 16,
   "metadata": {},
   "outputs": [
    {
     "name": "stdout",
     "output_type": "stream",
     "text": [
      "14\n"
     ]
    }
   ],
   "source": [
    "# 3.\n",
    "# 1 ~ 100 중에 7의 배수의 개수를 출력하세요.\n",
    "lst =[]\n",
    "for i in range(1,100+1):\n",
    "    if i%7 ==0:\n",
    "        lst.append(i)\n",
    "print(len(lst))"
   ]
  },
  {
   "cell_type": "code",
   "execution_count": 17,
   "metadata": {},
   "outputs": [
    {
     "name": "stdout",
     "output_type": "stream",
     "text": [
      "14\n"
     ]
    }
   ],
   "source": [
    "cnt = 0\n",
    "for num in range(1,101):\n",
    "    if num%7==0:\n",
    "        cnt += 1\n",
    "print(cnt)"
   ]
  },
  {
   "cell_type": "code",
   "execution_count": 23,
   "metadata": {},
   "outputs": [
    {
     "name": "stdout",
     "output_type": "stream",
     "text": [
      "14\n",
      "14\n"
     ]
    }
   ],
   "source": [
    "print(len(range(7,100+1,7)))\n",
    "print(100//7)"
   ]
  },
  {
   "cell_type": "code",
   "execution_count": 81,
   "metadata": {},
   "outputs": [
    {
     "name": "stdout",
     "output_type": "stream",
     "text": [
      "2\n",
      "3\n",
      "6\n"
     ]
    }
   ],
   "source": [
    "# 4.\n",
    "lst = [1,2,3,4,5,6,7]\n",
    "print(lst[1])\n",
    "print(lst[2])\n",
    "print(lst[-2])"
   ]
  },
  {
   "cell_type": "code",
   "execution_count": 24,
   "metadata": {},
   "outputs": [
    {
     "name": "stdout",
     "output_type": "stream",
     "text": [
      "2\n",
      "3\n",
      "6\n"
     ]
    }
   ],
   "source": [
    "lst = [1,2,3,4,5,6,7]\n",
    "for num in lst :\n",
    "    if num ==1 or num ==4 or num ==5 or num ==7:\n",
    "        continue\n",
    "    print(num)"
   ]
  },
  {
   "cell_type": "code",
   "execution_count": 20,
   "metadata": {},
   "outputs": [
    {
     "name": "stdout",
     "output_type": "stream",
     "text": [
      "[4, 5, 6, 7]\n"
     ]
    }
   ],
   "source": [
    "# 5.\n",
    "# 1~9 까지의 자연수 중 제곱한 수가 10이상 50이하면 자연수의 리스트를 출력해라.\n",
    "lst = []\n",
    "for i in range(1,9+1):\n",
    "    if i**2 >= 10 and i**2 <= 50:\n",
    "        lst.append(i)\n",
    "print(lst)"
   ]
  },
  {
   "cell_type": "code",
   "execution_count": 30,
   "metadata": {},
   "outputs": [
    {
     "name": "stdout",
     "output_type": "stream",
     "text": [
      "True\n"
     ]
    }
   ],
   "source": [
    "# 6.\n",
    "# n = 17일 때, n이 소수인지 판단하시오. (추가로, n을 입력받아 같은 과정을 반복하시오.)\n",
    "\n",
    "\n",
    "# 약수가 1,n 뿐인 수가 소수다. -> 코드로 구현 거의 불가능이라고 생각\n",
    "\n",
    "# 2 부터 n-1 까지의 수로 나눴을때 나머지가 0이 아니라면 소수다.\n",
    "\n",
    "count = 0\n",
    "for num in range(2,n):\n",
    "    if n % num != 0 :\n",
    "        count += 1\n",
    "if count == len(range(2,n)):\n",
    "    is_prime = True\n",
    "else:\n",
    "    is_prime = False\n",
    "\n",
    "# 반복이 무사히 끝나면 소수다\n",
    "for num in range(2,n):\n",
    "    if n%num!=0:\n",
    "        pass\n",
    "    else:\n",
    "        break\n",
    "else: # break를 만나지 않았을때 실행되는 코드\n",
    "    is_prime = True\n",
    "\n",
    "# 2 부터 n-1 까지의 수로 나눴을때 나머지가 0이 이라면 소수가 아니다. -> while문에 적합하다\n",
    "\n",
    "is_prime = True\n",
    "n=int(input(num))\n",
    "for num in range(2,n):\n",
    "    if n % num == 0:\n",
    "        is_prime = False\n",
    "print(is_prime)"
   ]
  },
  {
   "cell_type": "code",
   "execution_count": null,
   "metadata": {},
   "outputs": [],
   "source": [
    "# plus\n",
    "# 자판기 제작\n",
    "\n",
    "# 환타 / 1000원 / 재고 1개\n",
    "# 사이다 / 1500원 / 재고 3개\n",
    "# 콜라 / 2000원 / 재고 5개\n",
    "# 의 데이터를 가지고\n",
    "# 다음과 같은 서비스를 만드시오\n",
    "\n",
    "# 1. 돈을 입력받습니다.\n",
    "# 2. 상품의 이름을 입력 받습니다.\n",
    "# 3. 구매 가능하다면, 구매합니다.\n",
    "# 4. 구매 가능하지 않다면, 구매하지 않습니다.\n",
    "# 5. 2 ~ 4의 과정을 반복합니다. 돈이 부족해 구매가 불가능하다면, 반복을 멈춥니다.\n",
    "# 6. 구매한 상품과 개수를 출력합니다.\n",
    "\n",
    "# + 위 과정 중에서 추가적인 정보가 필요하다면 print하여 보여줍니다.(예, 물품의 재고 및 가격 등)\n",
    "\n"
   ]
  },
  {
   "cell_type": "code",
   "execution_count": null,
   "metadata": {},
   "outputs": [],
   "source": []
  }
 ],
 "metadata": {
  "kernelspec": {
   "display_name": "Python 3",
   "language": "python",
   "name": "python3"
  },
  "language_info": {
   "codemirror_mode": {
    "name": "ipython",
    "version": 3
   },
   "file_extension": ".py",
   "mimetype": "text/x-python",
   "name": "python",
   "nbconvert_exporter": "python",
   "pygments_lexer": "ipython3",
   "version": "3.9.13"
  }
 },
 "nbformat": 4,
 "nbformat_minor": 2
}
