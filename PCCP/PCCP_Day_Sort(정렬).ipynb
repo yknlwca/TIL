{
 "cells": [
  {
   "cell_type": "markdown",
   "metadata": {},
   "source": [
    "# 정렬"
   ]
  },
  {
   "cell_type": "code",
   "execution_count": 3,
   "metadata": {},
   "outputs": [
    {
     "name": "stdout",
     "output_type": "stream",
     "text": [
      "[1, 2, 4, 5, 8, 11, 13, 20]\n",
      "None\n",
      "\n",
      "[1, 11, 4, 5, 8, 13, 20, 2]\n",
      "[1, 2, 4, 5, 8, 11, 13, 20]\n"
     ]
    }
   ],
   "source": [
    "lst = [1,11,4,5,8,13,20,2]\n",
    "\n",
    "lst.sort()\n",
    "sorted_lst = lst.sort()\n",
    "print(lst)\n",
    "print(sorted_lst)\n",
    "print()\n",
    "# 매서트 .sort() -> 반환값이 존재하지 않음.\n",
    "# 앞에 나와있는 매개체로서의 list가 정렬이 된다\n",
    "# 즉, 자기 자신이 정렬이 된다.\n",
    "# lst 자체가 정렬\n",
    "\n",
    "lst = [1,11,4,5,8,13,20,2]\n",
    "\n",
    "sorted_lst = sorted(lst)\n",
    "print(lst)\n",
    "print(sorted_lst)\n",
    "# 함수 sorted() -> 반환값이 존재합니다.\n",
    "# 즉, 원본 리스트는 보존한 채 새로운 리스트가 생성됩니다.\n",
    "#함수는 input 변경 안됨"
   ]
  },
  {
   "cell_type": "code",
   "execution_count": 6,
   "metadata": {},
   "outputs": [
    {
     "name": "stdout",
     "output_type": "stream",
     "text": [
      "[[150, 50], [170, 60], [180, 40]]\n",
      "[[180, 40], [150, 50], [170, 60]]\n"
     ]
    }
   ],
   "source": [
    "# (키,몸무게)의 data들이 있을떄,\n",
    "# 1. 키순으로 정렬\n",
    "# 2. 몸무게 순으로 정렬\n",
    "data = [[170,60],[180,40],[150,50]]\n",
    "\n",
    "data.sort()\n",
    "print(data)\n",
    "\n",
    "def order(el): # el : [a,b] 형태의 데이터입니다.\n",
    "    return el[1]\n",
    "    # retrun el[0]**2//el[1]  # 가상의 bmi\n",
    "\n",
    "# data.sort(key=func)\n",
    "\n",
    "data.sort(key=order)\n",
    "data.sort(key = lambda x : x[1]) # lambda 무명함수 x(input) : x(output)\n",
    "print(data)"
   ]
  },
  {
   "cell_type": "markdown",
   "metadata": {},
   "source": [
    "# Counting sort"
   ]
  },
  {
   "cell_type": "code",
   "execution_count": 11,
   "metadata": {},
   "outputs": [
    {
     "name": "stdout",
     "output_type": "stream",
     "text": [
      "[0, 3, 2, 4, 1]\n",
      "[1, 1, 1, 2, 2, 3, 3, 3, 3, 4]\n"
     ]
    }
   ],
   "source": [
    "lst = [1,3,3,2,2,1,4,3,3,1]\n",
    "\n",
    "counting_lst = [0]*(max(lst+1)) # 0번째 index는 무시\n",
    "# n번째 라는 개념과 숫자를 맞추기 위해서\n",
    "\n",
    "# 개수를 센다\n",
    "for num in lst:\n",
    "    counting_lst[num] += 1\n",
    "print(counting_lst)\n",
    "\n",
    "sorted_lst = []\n",
    "# for index, value in enumerate(counting_lst):\n",
    "for index in range(len(counting_lst)):\n",
    "    value = counting_lst[index]\n",
    "    for _ in range(value):\n",
    "        sorted_lst.append(index)\n",
    "print(sorted_lst)\n",
    "\n",
    "# 정수밖에 정렬 하지 못하는 단점\n",
    "# 불안정함\n",
    "# but, 굉장히 빠름 / o(n+k) n은 개수, k는 가장 큰 정수\n",
    "# 안정화 시킬 수 있음."
   ]
  },
  {
   "cell_type": "code",
   "execution_count": 2,
   "metadata": {},
   "outputs": [
    {
     "name": "stdout",
     "output_type": "stream",
     "text": [
      "[3, 1, 2, 5, 4]\n"
     ]
    }
   ],
   "source": [
    "lst = [1,3,2,5,4]\n",
    "\n",
    "# 0번째, 1번쨰의 값을 swap 하는 방법\n",
    "lst[0],lst[1] = lst[1], lst[0]\n",
    "print(lst)"
   ]
  },
  {
   "cell_type": "markdown",
   "metadata": {},
   "source": [
    "# Bubble Sort"
   ]
  },
  {
   "cell_type": "code",
   "execution_count": 27,
   "metadata": {},
   "outputs": [
    {
     "name": "stdout",
     "output_type": "stream",
     "text": [
      "[1, 2, 3, 6, 7, 4, 8]\n",
      "[1, 2, 3, 6, 4, 7, 8]\n",
      "[1, 2, 3, 4, 6, 7, 8]\n",
      "[1, 2, 3, 4, 6, 7, 8]\n",
      "[1, 2, 3, 4, 6, 7, 8]\n",
      "[1, 2, 3, 4, 6, 7, 8]\n"
     ]
    }
   ],
   "source": [
    "lst = [1,3,2,6,8,7,4]\n",
    "\n",
    "for _ in range(len(lst)-1,0,-1):\n",
    "    for i in range(len(lst)-1):\n",
    "        if lst[i] > lst[i+1]:\n",
    "            lst[i],lst[i+1]=lst[i+1],lst[i]\n",
    "    print(lst)"
   ]
  },
  {
   "cell_type": "code",
   "execution_count": 40,
   "metadata": {},
   "outputs": [
    {
     "name": "stdout",
     "output_type": "stream",
     "text": [
      "[2, 3, 4, 5, 6, 7, 8, 7, 6, 5, 4, 3, 2, 1, 1]\n",
      "[3, 4, 5, 6, 7, 8, 7, 6, 5, 4, 3, 2, 2, 1, 1]\n",
      "[4, 5, 6, 7, 8, 7, 6, 5, 4, 3, 3, 2, 2, 1, 1]\n",
      "[5, 6, 7, 8, 7, 6, 5, 4, 4, 3, 3, 2, 2, 1, 1]\n",
      "[6, 7, 8, 7, 6, 5, 5, 4, 4, 3, 3, 2, 2, 1, 1]\n",
      "[7, 8, 7, 6, 6, 5, 5, 4, 4, 3, 3, 2, 2, 1, 1]\n",
      "[8, 7, 7, 6, 6, 5, 5, 4, 4, 3, 3, 2, 2, 1, 1]\n",
      "[8, 7, 7, 6, 6, 5, 5, 4, 4, 3, 3, 2, 2, 1, 1]\n",
      "[8, 7, 7, 6, 6, 5, 5, 4, 4, 3, 3, 2, 2, 1, 1]\n",
      "[8, 7, 7, 6, 6, 5, 5, 4, 4, 3, 3, 2, 2, 1, 1]\n",
      "[8, 7, 7, 6, 6, 5, 5, 4, 4, 3, 3, 2, 2, 1, 1]\n",
      "[8, 7, 7, 6, 6, 5, 5, 4, 4, 3, 3, 2, 2, 1, 1]\n",
      "[8, 7, 7, 6, 6, 5, 5, 4, 4, 3, 3, 2, 2, 1, 1]\n",
      "[8, 7, 7, 6, 6, 5, 5, 4, 4, 3, 3, 2, 2, 1, 1]\n"
     ]
    }
   ],
   "source": [
    "lst = [1,2,3,4,5,6,7,8,7,6,5,4,3,2,1]\n",
    "\n",
    "for _ in range(len(lst)-1,0,-1):\n",
    "    for j in range(len(lst)-1):\n",
    "        if lst[j] < lst[j+1]:\n",
    "            lst[j],lst[j+1]=lst[j+1],lst[j]\n",
    "    print(lst)"
   ]
  }
 ],
 "metadata": {
  "kernelspec": {
   "display_name": "Python 3",
   "language": "python",
   "name": "python3"
  },
  "language_info": {
   "codemirror_mode": {
    "name": "ipython",
    "version": 3
   },
   "file_extension": ".py",
   "mimetype": "text/x-python",
   "name": "python",
   "nbconvert_exporter": "python",
   "pygments_lexer": "ipython3",
   "version": "3.9.13"
  }
 },
 "nbformat": 4,
 "nbformat_minor": 2
}
