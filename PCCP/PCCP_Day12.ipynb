{
  "nbformat": 4,
  "nbformat_minor": 0,
  "metadata": {
    "colab": {
      "provenance": [],
      "gpuType": "T4"
    },
    "kernelspec": {
      "name": "python3",
      "display_name": "Python 3"
    },
    "language_info": {
      "name": "python"
    },
    "accelerator": "GPU"
  },
  "cells": [
    {
      "cell_type": "code",
      "source": [
        "mat = [[0]*4 for _ in range(4)]\n",
        "\n",
        "num = 1\n",
        "for i in range(4):\n",
        "  for j in range(4):\n",
        "    mat[i][j] = num\n",
        "    num += 1\n",
        "print(mat)"
      ],
      "metadata": {
        "colab": {
          "base_uri": "https://localhost:8080/"
        },
        "id": "zmMxG3yslsha",
        "outputId": "1ed80b40-32b1-4569-9b19-b412502cd7dc"
      },
      "execution_count": null,
      "outputs": [
        {
          "output_type": "stream",
          "name": "stdout",
          "text": [
            "[[1, 2, 3, 4], [5, 6, 7, 8], [9, 10, 11, 12], [13, 14, 15, 16]]\n"
          ]
        }
      ]
    },
    {
      "cell_type": "code",
      "source": [
        "# DFS / BFS\n",
        "# Data Structure\n",
        "# 인접 리스트 / 인접 행렬\n",
        "# row col\n"
      ],
      "metadata": {
        "id": "qxnPGvNFoRM6"
      },
      "execution_count": null,
      "outputs": []
    },
    {
      "cell_type": "code",
      "source": [
        "# 델타 탐색\n",
        "\n",
        "row , col = 1 , 1\n",
        "drow = [0, 0, 1, -1]\n",
        "dcol = [1, -1, 0, 0]\n",
        "for d in range(4):\n",
        "  nrow = row + drow[d]\n",
        "  ncol = col + dcol[d]\n",
        "  print(nrow,ncol)"
      ],
      "metadata": {
        "colab": {
          "base_uri": "https://localhost:8080/"
        },
        "id": "bTOGaW3qtm1D",
        "outputId": "810ef2c6-44f0-4695-f3c3-fc5d00efdd14"
      },
      "execution_count": null,
      "outputs": [
        {
          "output_type": "stream",
          "name": "stdout",
          "text": [
            "1 2\n",
            "1 0\n",
            "2 1\n",
            "0 1\n"
          ]
        }
      ]
    },
    {
      "cell_type": "code",
      "source": [
        "# 1과 근접해 있는 2의 개수는 ?\n",
        "\n",
        "A,B = map(int,input().split())\n",
        "mat = [list(map(int,input().split())) for _ in range(B)]\n",
        "\n",
        "drow = [0,0,1,-1]\n",
        "dcol = [1,-1,0,0]\n",
        "count = 0\n",
        "\n",
        "for row in range(len(mat)):\n",
        "  for col in range(len(mat)):\n",
        "    if mat[row][col] == 2:\n",
        "      for n in range(len(drow)):\n",
        "        nrow = row + drow[n]\n",
        "        ncol = col + dcol[n]\n",
        "        # nrow, ncol 벽 만날 때\n",
        "        if 0 <= nrow <len(mat) and 0 <= ncol < len(mat) and mat[nrow][ncol] == 1:\n",
        "          count += 1\n",
        "          break # 중복일 경우 방지\n",
        "print(count)"
      ],
      "metadata": {
        "colab": {
          "base_uri": "https://localhost:8080/"
        },
        "id": "8yFHtHkvuSni",
        "outputId": "d3458e90-5999-469a-8752-0264c6fa3dec"
      },
      "execution_count": null,
      "outputs": [
        {
          "output_type": "stream",
          "name": "stdout",
          "text": [
            "6 6\n",
            "0 0 0 0 0 0 \n",
            "0 2 0 1 0 0\n",
            "0 2 0 1 0 1\n",
            "0 0 0 0 1 2\n",
            "0 1 2 0 0 0 \n",
            "0 0 2 2 1 0\n",
            "3\n"
          ]
        }
      ]
    },
    {
      "cell_type": "code",
      "source": [
        "# stack / queue\n",
        "# stack : 리스트인데, 한방향으로 데이터의 삽입 삭제가 잦은 자료 구조\n",
        "stack = []\n",
        "stack.append(1)\n",
        "stack.append(2)\n",
        "stack.append(3)\n",
        "stack.pop()\n",
        "stack.pop()\n",
        "stack.pop()\n",
        "# queue : 리스트인데 ,다른 방향으로의 데이터 삽입 삭제가 잦은 자료 구조\n",
        "queue = []\n",
        "queue.append(1)\n",
        "queue.append(2)\n",
        "queue.append(3)\n",
        "queue.pop(0)\n",
        "queue.pop(1)\n",
        "queue.pop(2)"
      ],
      "metadata": {
        "id": "CaEKPqcivltH"
      },
      "execution_count": null,
      "outputs": []
    },
    {
      "cell_type": "code",
      "source": [
        "from collections import deque\n",
        "\n",
        "q = deque()\n",
        "q.append(1)\n",
        "q.appendleft(2)\n",
        "q.pop()\n",
        "q.popleft()"
      ],
      "metadata": {
        "id": "CKQS9WDHyPVm"
      },
      "execution_count": null,
      "outputs": []
    },
    {
      "cell_type": "code",
      "source": [
        "# Depth First Search (dfs) : 깊이 우선 탐색 Stack\n",
        "# Breath First Search (bfs) : 너비 우선 탐색 Queue"
      ],
      "metadata": {
        "id": "smRLo9feDS94"
      },
      "execution_count": null,
      "outputs": []
    },
    {
      "cell_type": "code",
      "source": [
        "from collections import deque\n",
        "\n",
        "a , b = map(int, input().split())\n",
        "mat = [list(map(int,input().split())) for _ in range(a)]\n",
        "mat\n",
        "start_x , start_y = 0 , 0\n",
        "end_x,end_y = a-1 , b-1\n",
        "print(mat)\n",
        "\n",
        "q = deque()\n",
        "q.append((start_x,start_y))\n",
        "dx = [0, 0, 1, -1]\n",
        "dy = [1, -1, 0, 0]\n",
        "\n",
        "visited = set()\n",
        "visited.add((start_x,start_y))\n",
        "# 그리드 방식\n",
        "# visited = [[0]*b for _ in range(a)]\n",
        "# visited[start_x][start_y] = 1\n",
        "\n",
        "while q :\n",
        "  x ,y = q.popleft()\n",
        "  if (x,y) == (end_x,end_y):\n",
        "    print('성공')\n",
        "    break\n",
        "    for d in range(4):\n",
        "      nx = x + dx[d]\n",
        "      ny = y + dy[d]\n",
        "      if 0<=nx<a and 0<=ny<b:\n",
        "        if mat[nx][ny] == 1 and (nx,ny) not in visited :\n",
        "          q.append((nx,ny))\n",
        "          visited.add((nx,ny))"
      ],
      "metadata": {
        "id": "P5QbUpADDTHB",
        "colab": {
          "base_uri": "https://localhost:8080/"
        },
        "outputId": "4efb6100-2d52-4d5d-d653-a17c5f769c95"
      },
      "execution_count": null,
      "outputs": [
        {
          "output_type": "stream",
          "name": "stdout",
          "text": [
            "4 6\n",
            "1 0 1 1 1 1\n",
            "1 0 1 0 1 0\n",
            "1 0 1 0 1 1\n",
            "1 1 1 0 1 1\n",
            "1 1 1 0 1 1\n",
            "1 1 1 0 1 1\n",
            "[[1, 0, 1, 1, 1, 1], [1, 0, 1, 0, 1, 0], [1, 0, 1, 0, 1, 1], [1, 1, 1, 0, 1, 1], [1, 1, 1, 0, 1, 1], [1, 1, 1, 0, 1, 1]]\n"
          ]
        }
      ]
    },
    {
      "cell_type": "code",
      "source": [
        "from collections import deque\n",
        "\n",
        "a , b = map(int, input().split())\n",
        "mat = [list(map(int,input().split())) for _ in range(a)]\n",
        "mat\n",
        "start_x , start_y = 0 , 0\n",
        "end_x,end_y = a-1 , b-1\n",
        "print(mat)\n",
        "\n",
        "q = deque()\n",
        "q.append((start_x,start_y))\n",
        "dx = [0, 0, 1, -1]\n",
        "dy = [1, -1, 0, 0]\n",
        "\n",
        "visited = set()\n",
        "visited.add((start_x,start_y))\n",
        "# 그리드 방식\n",
        "# visited = [[0]*b for _ in range(a)]\n",
        "# visited[start_x][start_y] = 1\n",
        "\n",
        "while q :\n",
        "  x ,y , distance = q.pop()\n",
        "  if (x,y) == (end_x,end_y):\n",
        "    print('성공',distance)\n",
        "    break\n",
        "    for d in range(4):\n",
        "      nx = x + dx[d]\n",
        "      ny = y + dy[d]\n",
        "      if 0<=nx<a and 0<=ny<b:\n",
        "        if mat[nx][ny] == 1 and (nx,ny) not in visited :\n",
        "          q.append((nx,ny,distance+1))\n",
        "          visited.add((nx,ny))"
      ],
      "metadata": {
        "id": "6BnpA4QkDTKz",
        "colab": {
          "base_uri": "https://localhost:8080/"
        },
        "outputId": "3cd0466d-d60f-4261-c4dc-3a45945a196c"
      },
      "execution_count": null,
      "outputs": [
        {
          "output_type": "stream",
          "name": "stdout",
          "text": [
            "4 6\n",
            "1 0 1 1 1 1\n",
            "1 0 1 0 1 0\n",
            "1 0 1 0 1 1\n",
            "1 1 1 0 1 1\n",
            "[[1, 0, 1, 1, 1, 1], [1, 0, 1, 0, 1, 0], [1, 0, 1, 0, 1, 1], [1, 1, 1, 0, 1, 1]]\n"
          ]
        }
      ]
    },
    {
      "cell_type": "code",
      "source": [
        "junyu.edu@gmail.com"
      ],
      "metadata": {
        "id": "xOBjDQEkDTmm"
      },
      "execution_count": null,
      "outputs": []
    },
    {
      "cell_type": "code",
      "source": [
        "def bfs(si,sj,ei,ej):\n",
        "  q=[]\n",
        "  v=[[0]*M for _ in range(N)]\n",
        "  q.append((si,sj))\n",
        "  v[si][sj] = 1\n",
        "  while q:\n",
        "    ci,cj = q.pop(0)\n",
        "    if (ci,cj) == (ei,ej):\n",
        "      return v[ei][ej]\n",
        "    for di,dj in range((-1,0),(1,0),(0,-1),(0,1)):\n",
        "      ni,nj = ci+di,cj+dj\n",
        "      if 0<=ni<N and 0<=nj<M and arr[ni][nj]==1 and v[ni][nj] ==0:\n",
        "        q.append((ni,nj))\n",
        "        v[ni][nj] = v[ci][cj]+1\n",
        "N,M = map(int,input().split())\n",
        "arr = [list(map(int,input().split()) for _ in range(N))]\n",
        "ans = bfs(0,0,N-1,M-1)\n",
        "print(ans)"
      ],
      "metadata": {
        "colab": {
          "base_uri": "https://localhost:8080/",
          "height": 455
        },
        "id": "ZyG4CTbzw28M",
        "outputId": "a8328fd8-180f-44c1-ca38-2ce0260b77fd"
      },
      "execution_count": 6,
      "outputs": [
        {
          "name": "stdout",
          "output_type": "stream",
          "text": [
            "4 6\n",
            "1 0 1 1 1 1\n",
            "1 0 1 0 1 0\n",
            "1 0 1 0 1 1\n",
            "1 1 1 0 1 1\n"
          ]
        },
        {
          "output_type": "error",
          "ename": "TypeError",
          "evalue": "ignored",
          "traceback": [
            "\u001b[0;31m---------------------------------------------------------------------------\u001b[0m",
            "\u001b[0;31mTypeError\u001b[0m                                 Traceback (most recent call last)",
            "\u001b[0;32m<ipython-input-6-cfd40cff1808>\u001b[0m in \u001b[0;36m<cell line: 17>\u001b[0;34m()\u001b[0m\n\u001b[1;32m     15\u001b[0m \u001b[0mN\u001b[0m\u001b[0;34m,\u001b[0m\u001b[0mM\u001b[0m \u001b[0;34m=\u001b[0m \u001b[0mmap\u001b[0m\u001b[0;34m(\u001b[0m\u001b[0mint\u001b[0m\u001b[0;34m,\u001b[0m\u001b[0minput\u001b[0m\u001b[0;34m(\u001b[0m\u001b[0;34m)\u001b[0m\u001b[0;34m.\u001b[0m\u001b[0msplit\u001b[0m\u001b[0;34m(\u001b[0m\u001b[0;34m)\u001b[0m\u001b[0;34m)\u001b[0m\u001b[0;34m\u001b[0m\u001b[0;34m\u001b[0m\u001b[0m\n\u001b[1;32m     16\u001b[0m \u001b[0marr\u001b[0m \u001b[0;34m=\u001b[0m \u001b[0;34m[\u001b[0m\u001b[0mlist\u001b[0m\u001b[0;34m(\u001b[0m\u001b[0mmap\u001b[0m\u001b[0;34m(\u001b[0m\u001b[0mint\u001b[0m\u001b[0;34m,\u001b[0m\u001b[0minput\u001b[0m\u001b[0;34m(\u001b[0m\u001b[0;34m)\u001b[0m\u001b[0;34m.\u001b[0m\u001b[0msplit\u001b[0m\u001b[0;34m(\u001b[0m\u001b[0;34m)\u001b[0m\u001b[0;34m)\u001b[0m \u001b[0;32mfor\u001b[0m \u001b[0m_\u001b[0m \u001b[0;32min\u001b[0m \u001b[0mrange\u001b[0m\u001b[0;34m(\u001b[0m\u001b[0mN\u001b[0m\u001b[0;34m)\u001b[0m\u001b[0;34m)\u001b[0m\u001b[0;34m]\u001b[0m\u001b[0;34m\u001b[0m\u001b[0;34m\u001b[0m\u001b[0m\n\u001b[0;32m---> 17\u001b[0;31m \u001b[0mans\u001b[0m \u001b[0;34m=\u001b[0m \u001b[0mbfs\u001b[0m\u001b[0;34m(\u001b[0m\u001b[0;36m0\u001b[0m\u001b[0;34m,\u001b[0m\u001b[0;36m0\u001b[0m\u001b[0;34m,\u001b[0m\u001b[0mN\u001b[0m\u001b[0;34m-\u001b[0m\u001b[0;36m1\u001b[0m\u001b[0;34m,\u001b[0m\u001b[0mM\u001b[0m\u001b[0;34m-\u001b[0m\u001b[0;36m1\u001b[0m\u001b[0;34m)\u001b[0m\u001b[0;34m\u001b[0m\u001b[0;34m\u001b[0m\u001b[0m\n\u001b[0m\u001b[1;32m     18\u001b[0m \u001b[0mprint\u001b[0m\u001b[0;34m(\u001b[0m\u001b[0mans\u001b[0m\u001b[0;34m)\u001b[0m\u001b[0;34m\u001b[0m\u001b[0;34m\u001b[0m\u001b[0m\n",
            "\u001b[0;32m<ipython-input-6-cfd40cff1808>\u001b[0m in \u001b[0;36mbfs\u001b[0;34m(si, sj, ei, ej)\u001b[0m\n\u001b[1;32m      8\u001b[0m     \u001b[0;32mif\u001b[0m \u001b[0;34m(\u001b[0m\u001b[0mci\u001b[0m\u001b[0;34m,\u001b[0m\u001b[0mcj\u001b[0m\u001b[0;34m)\u001b[0m \u001b[0;34m==\u001b[0m \u001b[0;34m(\u001b[0m\u001b[0mei\u001b[0m\u001b[0;34m,\u001b[0m\u001b[0mej\u001b[0m\u001b[0;34m)\u001b[0m\u001b[0;34m:\u001b[0m\u001b[0;34m\u001b[0m\u001b[0;34m\u001b[0m\u001b[0m\n\u001b[1;32m      9\u001b[0m       \u001b[0;32mreturn\u001b[0m \u001b[0mv\u001b[0m\u001b[0;34m[\u001b[0m\u001b[0mei\u001b[0m\u001b[0;34m]\u001b[0m\u001b[0;34m[\u001b[0m\u001b[0mej\u001b[0m\u001b[0;34m]\u001b[0m\u001b[0;34m\u001b[0m\u001b[0;34m\u001b[0m\u001b[0m\n\u001b[0;32m---> 10\u001b[0;31m     \u001b[0;32mfor\u001b[0m \u001b[0mdi\u001b[0m\u001b[0;34m,\u001b[0m\u001b[0mdj\u001b[0m \u001b[0;32min\u001b[0m \u001b[0mrange\u001b[0m\u001b[0;34m(\u001b[0m\u001b[0;34m(\u001b[0m\u001b[0;34m-\u001b[0m\u001b[0;36m1\u001b[0m\u001b[0;34m,\u001b[0m\u001b[0;36m0\u001b[0m\u001b[0;34m)\u001b[0m\u001b[0;34m,\u001b[0m\u001b[0;34m(\u001b[0m\u001b[0;36m1\u001b[0m\u001b[0;34m,\u001b[0m\u001b[0;36m0\u001b[0m\u001b[0;34m)\u001b[0m\u001b[0;34m,\u001b[0m\u001b[0;34m(\u001b[0m\u001b[0;36m0\u001b[0m\u001b[0;34m,\u001b[0m\u001b[0;34m-\u001b[0m\u001b[0;36m1\u001b[0m\u001b[0;34m)\u001b[0m\u001b[0;34m,\u001b[0m\u001b[0;34m(\u001b[0m\u001b[0;36m0\u001b[0m\u001b[0;34m,\u001b[0m\u001b[0;36m1\u001b[0m\u001b[0;34m)\u001b[0m\u001b[0;34m)\u001b[0m\u001b[0;34m:\u001b[0m\u001b[0;34m\u001b[0m\u001b[0;34m\u001b[0m\u001b[0m\n\u001b[0m\u001b[1;32m     11\u001b[0m       \u001b[0mni\u001b[0m\u001b[0;34m,\u001b[0m\u001b[0mnj\u001b[0m \u001b[0;34m=\u001b[0m \u001b[0mci\u001b[0m\u001b[0;34m+\u001b[0m\u001b[0mdi\u001b[0m\u001b[0;34m,\u001b[0m\u001b[0mcj\u001b[0m\u001b[0;34m+\u001b[0m\u001b[0mdj\u001b[0m\u001b[0;34m\u001b[0m\u001b[0;34m\u001b[0m\u001b[0m\n\u001b[1;32m     12\u001b[0m       \u001b[0;32mif\u001b[0m \u001b[0;36m0\u001b[0m\u001b[0;34m<=\u001b[0m\u001b[0mni\u001b[0m\u001b[0;34m<\u001b[0m\u001b[0mN\u001b[0m \u001b[0;32mand\u001b[0m \u001b[0;36m0\u001b[0m\u001b[0;34m<=\u001b[0m\u001b[0mnj\u001b[0m\u001b[0;34m<\u001b[0m\u001b[0mM\u001b[0m \u001b[0;32mand\u001b[0m \u001b[0marr\u001b[0m\u001b[0;34m[\u001b[0m\u001b[0mni\u001b[0m\u001b[0;34m]\u001b[0m\u001b[0;34m[\u001b[0m\u001b[0mnj\u001b[0m\u001b[0;34m]\u001b[0m\u001b[0;34m==\u001b[0m\u001b[0;36m1\u001b[0m \u001b[0;32mand\u001b[0m \u001b[0mv\u001b[0m\u001b[0;34m[\u001b[0m\u001b[0mni\u001b[0m\u001b[0;34m]\u001b[0m\u001b[0;34m[\u001b[0m\u001b[0mnj\u001b[0m\u001b[0;34m]\u001b[0m \u001b[0;34m==\u001b[0m\u001b[0;36m0\u001b[0m\u001b[0;34m:\u001b[0m\u001b[0;34m\u001b[0m\u001b[0;34m\u001b[0m\u001b[0m\n",
            "\u001b[0;31mTypeError\u001b[0m: range expected at most 3 arguments, got 4"
          ]
        }
      ]
    },
    {
      "cell_type": "code",
      "source": [
        "def bfs(si, sj, ei, ej):\n",
        "    queue = [(si, sj)]\n",
        "    v = [[0] * M for _ in range(N)]\n",
        "    v[si][sj] = 1\n",
        "\n",
        "    while queue:\n",
        "        ci, cj = queue.pop(0)\n",
        "        if (ci, cj) == (ei, ej):\n",
        "            return v[ei][ej]\n",
        "\n",
        "        directions = [(-1, 0), (1, 0), (0, -1), (0, 1)]\n",
        "        for di, dj in directions:\n",
        "            ni, nj = ci + di, cj + dj\n",
        "            if 0 <= ni < N and 0 <= nj < M and arr[ni][nj] == 1 and v[ni][nj] == 0:\n",
        "                v[ni][nj] = v[ci][cj] + 1\n",
        "                queue.append((ni, nj))\n",
        "\n",
        "N, M = map(int, input().split())\n",
        "arr = [list(map(int, input().split())) for _ in range(N)]\n",
        "ans = bfs(0, 0, N - 1, M - 1)\n",
        "print(ans)\n"
      ],
      "metadata": {
        "colab": {
          "base_uri": "https://localhost:8080/"
        },
        "id": "nlTgOfSbyzn-",
        "outputId": "af144297-2061-4736-8f0e-e1a10a72817d"
      },
      "execution_count": 7,
      "outputs": [
        {
          "output_type": "stream",
          "name": "stdout",
          "text": [
            "4 6\n",
            "1 0 1 0 1 1\n",
            "1 0 1 0 1 0\n",
            "1 0 1 0 1 1\n",
            "1 1 1 0 1 1\n",
            "None\n"
          ]
        }
      ]
    },
    {
      "cell_type": "code",
      "source": [
        "from collections import deque\n",
        "\n",
        "def bfs(start, end):\n",
        "    queue = deque([(start[0], start[1], 1)])  # 시작 위치와 이동한 칸 수를 큐에 저장\n",
        "    visited = [[False] * M for _ in range(N)]  # 방문 여부를 저장하는 배열\n",
        "\n",
        "    while queue:\n",
        "        current_row, current_col, distance = queue.popleft()\n",
        "\n",
        "        # 도착 위치에 도달했을 때 이동한 칸 수를 반환\n",
        "        if (current_row, current_col) == end:\n",
        "            return distance\n",
        "\n",
        "        # 상하좌우로 이동할 수 있는지 확인하고 큐에 추가\n",
        "        for dr, dc in [(-1, 0), (1, 0), (0, -1), (0, 1)]:\n",
        "            next_row, next_col = current_row + dr, current_col + dc\n",
        "\n",
        "            # 이동 가능한 조건: 미로의 범위를 벗어나지 않고 이동할 수 있는 칸(1)인 경우\n",
        "            if 0 <= next_row < N and 0 <= next_col < M and maze[next_row][next_col] == 1 and not visited[next_row][next_col]:\n",
        "                queue.append((next_row, next_col, distance + 1))\n",
        "                visited[next_row][next_col] = True\n",
        "\n",
        "N, M = map(int, input().split())\n",
        "maze = [list(map(int, input().split())) for _ in range(N)]\n",
        "\n",
        "# 시작 위치와 도착 위치 설정\n",
        "start = (0, 0)\n",
        "end = (N - 1, M - 1)\n",
        "\n",
        "# BFS 수행 및 결과 출력\n",
        "result = bfs(start, end)\n",
        "print(result)"
      ],
      "metadata": {
        "colab": {
          "base_uri": "https://localhost:8080/"
        },
        "id": "yqrm4N5V0WKx",
        "outputId": "ec4b1be3-b3b7-4bcd-d446-bc088063fd59"
      },
      "execution_count": 12,
      "outputs": [
        {
          "output_type": "stream",
          "name": "stdout",
          "text": [
            "4 6\n",
            "1 0 1 1 1 1\n",
            "1 0 1 0 1 0\n",
            "1 0 1 0 1 1\n",
            "1 1 1 0 1 1\n",
            "15\n"
          ]
        }
      ]
    },
    {
      "cell_type": "code",
      "source": [
        "1"
      ],
      "metadata": {
        "id": "FSD0sP7V0qMM"
      },
      "execution_count": null,
      "outputs": []
    }
  ]
}