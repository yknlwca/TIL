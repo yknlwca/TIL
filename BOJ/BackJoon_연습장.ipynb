{
 "cells": [
  {
   "cell_type": "markdown",
   "id": "0211f76a",
   "metadata": {},
   "source": [
    "* VPS 9012"
   ]
  },
  {
   "cell_type": "code",
   "execution_count": 1,
   "id": "f8e1440c",
   "metadata": {},
   "outputs": [
    {
     "name": "stdout",
     "output_type": "stream",
     "text": [
      "2\n",
      "()()\n",
      "YES\n",
      "((()\n",
      "NO\n"
     ]
    }
   ],
   "source": [
    "T = int(input())\n",
    "for _ in range(T):\n",
    "    vps_sent = input()\n",
    "    stack = []\n",
    "    is_VPS = True\n",
    "    for i in vps_sent:\n",
    "        if i == '(':\n",
    "            stack.append(i)\n",
    "        elif i ==')':\n",
    "            if stack:\n",
    "                stack.pop()\n",
    "            else:\n",
    "                is_VPS = False\n",
    "                break\n",
    "    if is_VPS == False or stack:\n",
    "        print('NO')\n",
    "    else:\n",
    "        print('YES')"
   ]
  },
  {
   "cell_type": "markdown",
   "id": "e56f93a9",
   "metadata": {},
   "source": [
    "* 카드 2164"
   ]
  },
  {
   "cell_type": "code",
   "execution_count": 5,
   "id": "99113ae1",
   "metadata": {},
   "outputs": [
    {
     "name": "stdout",
     "output_type": "stream",
     "text": [
      "6\n",
      "4\n"
     ]
    }
   ],
   "source": [
    "from collections import deque\n",
    "N = int(input())\n",
    "Queue = deque()\n",
    "for i in range(1,N+1):\n",
    "    Queue.append(i)\n",
    "while len(Queue)>1:\n",
    "    Queue.popleft()\n",
    "    item = Queue.popleft()\n",
    "    Queue.append(item)\n",
    "print(Queue[0])"
   ]
  },
  {
   "cell_type": "markdown",
   "id": "e2daea22",
   "metadata": {},
   "source": [
    "* 피보나치 10870\n",
    "1. Base Case\n",
    "> n <= 1 -> n\n",
    "2. Recursive step\n",
    "> 문제 분할 ( n-1 , n-2)\n",
    ">> Recursive call\n",
    ">>> 문제 해결"
   ]
  },
  {
   "cell_type": "code",
   "execution_count": 7,
   "id": "712c8038",
   "metadata": {},
   "outputs": [
    {
     "name": "stdout",
     "output_type": "stream",
     "text": [
      "10\n",
      "55\n"
     ]
    }
   ],
   "source": [
    "def fibo(n):\n",
    "    # base case\n",
    "    if n == 0 : return 0\n",
    "    if n == 1 : return 1  \n",
    "    result = fibo(n-1) + fibo(n-2)\n",
    "    return result\n",
    "\n",
    "n = int(input())\n",
    "ans = fibo(n)\n",
    "print(ans)"
   ]
  },
  {
   "cell_type": "markdown",
   "id": "a36cda11",
   "metadata": {},
   "source": [
    "* 단어 순서 뒤집기 12605"
   ]
  },
  {
   "cell_type": "code",
   "execution_count": 9,
   "id": "6b387ca5",
   "metadata": {},
   "outputs": [
    {
     "name": "stdout",
     "output_type": "stream",
     "text": [
      "3\n",
      "this is a test\n",
      "Case #1: test a is this foobar\n",
      "Case #2: foobar all your base\n",
      "Case #3: base your all "
     ]
    }
   ],
   "source": [
    "N = int(input())\n",
    "\n",
    "for i in range(1,N+1):\n",
    "    sent_stack = list(input().split())\n",
    "    print(f'Case #{i}:',end=' ')\n",
    "    while sent_stack:\n",
    "        print(sent_stack.pop(),end=' ')"
   ]
  },
  {
   "cell_type": "markdown",
   "id": "c4ba767b",
   "metadata": {},
   "source": [
    "* 카드 2161"
   ]
  },
  {
   "cell_type": "code",
   "execution_count": null,
   "id": "79c979ca",
   "metadata": {},
   "outputs": [],
   "source": []
  },
  {
   "cell_type": "code",
   "execution_count": null,
   "id": "0d433b04",
   "metadata": {},
   "outputs": [],
   "source": []
  },
  {
   "cell_type": "code",
   "execution_count": null,
   "id": "ed081cc0",
   "metadata": {},
   "outputs": [],
   "source": []
  },
  {
   "cell_type": "code",
   "execution_count": null,
   "id": "39b19b90",
   "metadata": {},
   "outputs": [],
   "source": []
  },
  {
   "cell_type": "code",
   "execution_count": null,
   "id": "c5464f42",
   "metadata": {},
   "outputs": [],
   "source": []
  },
  {
   "cell_type": "code",
   "execution_count": null,
   "id": "014c7ceb",
   "metadata": {},
   "outputs": [],
   "source": []
  },
  {
   "cell_type": "code",
   "execution_count": null,
   "id": "c2f9422a",
   "metadata": {},
   "outputs": [],
   "source": []
  },
  {
   "cell_type": "code",
   "execution_count": null,
   "id": "872d8ac8",
   "metadata": {},
   "outputs": [],
   "source": []
  },
  {
   "cell_type": "code",
   "execution_count": null,
   "id": "44c68675",
   "metadata": {},
   "outputs": [],
   "source": []
  },
  {
   "cell_type": "code",
   "execution_count": null,
   "id": "a843ff2e",
   "metadata": {},
   "outputs": [],
   "source": []
  },
  {
   "cell_type": "code",
   "execution_count": null,
   "id": "09017e0a",
   "metadata": {},
   "outputs": [],
   "source": []
  },
  {
   "cell_type": "code",
   "execution_count": null,
   "id": "cb63b9c0",
   "metadata": {},
   "outputs": [],
   "source": []
  }
 ],
 "metadata": {
  "kernelspec": {
   "display_name": "Python 3 (ipykernel)",
   "language": "python",
   "name": "python3"
  },
  "language_info": {
   "codemirror_mode": {
    "name": "ipython",
    "version": 3
   },
   "file_extension": ".py",
   "mimetype": "text/x-python",
   "name": "python",
   "nbconvert_exporter": "python",
   "pygments_lexer": "ipython3",
   "version": "3.11.4"
  }
 },
 "nbformat": 4,
 "nbformat_minor": 5
}
