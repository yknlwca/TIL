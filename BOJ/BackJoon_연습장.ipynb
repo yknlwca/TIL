{
 "cells": [
  {
   "cell_type": "code",
   "execution_count": 14,
   "id": "35c28b80",
   "metadata": {},
   "outputs": [],
   "source": [
    "import warnings\n",
    "warnings.filterwarnings('ignore')"
   ]
  },
  {
   "cell_type": "markdown",
   "id": "b4578cec",
   "metadata": {},
   "source": [
    "* VPS 9012"
   ]
  },
  {
   "cell_type": "code",
   "execution_count": 1,
   "id": "09c36917",
   "metadata": {},
   "outputs": [
    {
     "name": "stdout",
     "output_type": "stream",
     "text": [
      "2\n",
      "()()\n",
      "YES\n",
      "((()\n",
      "NO\n"
     ]
    }
   ],
   "source": [
    "T = int(input())\n",
    "for _ in range(T):\n",
    "    vps_sent = input()\n",
    "    stack = []\n",
    "    is_VPS = True\n",
    "    for i in vps_sent:\n",
    "        if i == '(':\n",
    "            stack.append(i)\n",
    "        elif i ==')':\n",
    "            if stack:\n",
    "                stack.pop()\n",
    "            else:\n",
    "                is_VPS = False\n",
    "                break\n",
    "    if is_VPS == False or stack:\n",
    "        print('NO')\n",
    "    else:\n",
    "        print('YES')"
   ]
  },
  {
   "cell_type": "markdown",
   "id": "76f4c072",
   "metadata": {},
   "source": [
    "* 카드 2164"
   ]
  },
  {
   "cell_type": "code",
   "execution_count": 5,
   "id": "883de972",
   "metadata": {},
   "outputs": [
    {
     "name": "stdout",
     "output_type": "stream",
     "text": [
      "6\n",
      "4\n"
     ]
    }
   ],
   "source": [
    "from collections import deque\n",
    "N = int(input())\n",
    "Queue = deque()\n",
    "for i in range(1,N+1):\n",
    "    Queue.append(i)\n",
    "while len(Queue)>1:\n",
    "    Queue.popleft()\n",
    "    item = Queue.popleft()\n",
    "    Queue.append(item)\n",
    "print(Queue[0])"
   ]
  },
  {
   "cell_type": "markdown",
   "id": "9dcb30f7",
   "metadata": {},
   "source": [
    "* 피보나치 10870\n",
    "1. Base Case\n",
    "> n <= 1 -> n\n",
    "2. Recursive step\n",
    "> 문제 분할 ( n-1 , n-2)\n",
    ">> Recursive call\n",
    ">>> 문제 해결"
   ]
  },
  {
   "cell_type": "code",
   "execution_count": 7,
   "id": "4c90d66e",
   "metadata": {},
   "outputs": [
    {
     "name": "stdout",
     "output_type": "stream",
     "text": [
      "10\n",
      "55\n"
     ]
    }
   ],
   "source": [
    "def fibo(n):\n",
    "    # base case\n",
    "    if n == 0 : return 0\n",
    "    if n == 1 : return 1  \n",
    "    result = fibo(n-1) + fibo(n-2)\n",
    "    return result\n",
    "\n",
    "n = int(input())\n",
    "ans = fibo(n)\n",
    "print(ans)"
   ]
  },
  {
   "cell_type": "markdown",
   "id": "46f3c1d1",
   "metadata": {},
   "source": [
    "* 단어 순서 뒤집기 12605"
   ]
  },
  {
   "cell_type": "code",
   "execution_count": 9,
   "id": "65ff85ea",
   "metadata": {},
   "outputs": [
    {
     "name": "stdout",
     "output_type": "stream",
     "text": [
      "3\n",
      "this is a test\n",
      "Case #1: test a is this foobar\n",
      "Case #2: foobar all your base\n",
      "Case #3: base your all "
     ]
    }
   ],
   "source": [
    "N = int(input())\n",
    "\n",
    "for i in range(1,N+1):\n",
    "    sent_stack = list(input().split())\n",
    "    print(f'Case #{i}:',end=' ')\n",
    "    while sent_stack:\n",
    "        print(sent_stack.pop(),end=' ')"
   ]
  },
  {
   "cell_type": "markdown",
   "id": "ab027c82",
   "metadata": {},
   "source": [
    "* 카드 2161"
   ]
  },
  {
   "cell_type": "code",
   "execution_count": 11,
   "id": "63b2f5b2",
   "metadata": {},
   "outputs": [
    {
     "name": "stdout",
     "output_type": "stream",
     "text": [
      "7\n",
      "1 3 5 7 4 2 6\n"
     ]
    }
   ],
   "source": [
    "from collections import deque\n",
    "Queue = deque()\n",
    "N = int(input())\n",
    "for i in range(1,N+1):\n",
    "    Queue.append(i)\n",
    "while len(Queue)>1:\n",
    "    print(Queue.popleft(),end=' ')\n",
    "    item = Queue.popleft()\n",
    "    Queue.append(item)\n",
    "print(Queue[0])"
   ]
  },
  {
   "cell_type": "markdown",
   "id": "cec125c3",
   "metadata": {},
   "source": [
    "* 쉬운 계단수 10844"
   ]
  },
  {
   "cell_type": "code",
   "execution_count": 19,
   "id": "441446f3",
   "metadata": {},
   "outputs": [
    {
     "name": "stdout",
     "output_type": "stream",
     "text": [
      "2\n",
      "17\n"
     ]
    }
   ],
   "source": [
    "def solve():\n",
    "    N = int(input().rstrip())  # sys.stdin 대신 input() 사용\n",
    "    arr = [[0] * 10 for _ in range(N)]\n",
    "    for i in range(1, 10):\n",
    "        arr[0][i] = 1\n",
    "    for i in range(1, N):  # 변수 이름 'n'을 'N'으로 수정\n",
    "        arr[i][0] = arr[i-1][1]\n",
    "        arr[i][9] = arr[i-1][8]\n",
    "        for j in range(1, 9):\n",
    "            arr[i][j] = arr[i-1][j-1] + arr[i-1][j+1]\n",
    "    rst = 0\n",
    "    for i in range(10):\n",
    "        rst += arr[N-1][i]\n",
    "    print(rst % 1000000000)\n",
    "\n",
    "if __name__ == \"__main__\":\n",
    "    solve()"
   ]
  },
  {
   "cell_type": "markdown",
   "id": "124ea57b",
   "metadata": {},
   "source": [
    "# 틀린 문제 수정 필요\n",
    "* DFS와 BFS 1260 "
   ]
  },
  {
   "cell_type": "code",
   "execution_count": 27,
   "id": "c2ffb0c6",
   "metadata": {},
   "outputs": [
    {
     "name": "stdout",
     "output_type": "stream",
     "text": [
      "5 5 3\n",
      "5 4\n",
      "5 2\n",
      "1 2\n",
      "3 4\n",
      "3 1\n",
      "3 1 2 4 \n",
      "3 1 4 2 "
     ]
    }
   ],
   "source": [
    "def dfs(idx):\n",
    "    global visited\n",
    "    visited[idx] = True\n",
    "    print(idx,end = ' ')\n",
    "    for next in range(1,N+1):\n",
    "        if not visited[next] and graph[idx][next]:\n",
    "            dfs(next)\n",
    "\n",
    "def bfs():\n",
    "    global q,visited\n",
    "    while q:\n",
    "        cur = q.pop(0)\n",
    "        print(cur,end = ' ')\n",
    "        for next in range(1,N+1):\n",
    "            if not visited[next] and graph[cur][next]:\n",
    "                visited[next] = True\n",
    "                q.append(next)\n",
    "                \n",
    "N , M , V = map(int, input().split())\n",
    "graph = [[False]*(N+1) for _ in range(N+1)]\n",
    "visited = [False]*(N+1)\n",
    "for _ in range(M):\n",
    "    a,b = map(int,input().split())\n",
    "    graph[a][b] = True\n",
    "    graph[b][a] = False\n",
    "\n",
    "dfs(V)\n",
    "print()\n",
    "visited = [False]*(N+1)\n",
    "q = [V]\n",
    "visited[V] = True\n",
    "bfs()"
   ]
  },
  {
   "cell_type": "markdown",
   "id": "a7ebf3e2",
   "metadata": {},
   "source": [
    "# 런타임 에러\n",
    "* 유기농 배추 1012"
   ]
  },
  {
   "cell_type": "code",
   "execution_count": 35,
   "id": "625466cf",
   "metadata": {},
   "outputs": [
    {
     "name": "stdout",
     "output_type": "stream",
     "text": [
      "2\n",
      "10 8 17\n",
      "0 0\n",
      "1 0\n",
      "1 1\n",
      "4 2\n",
      "4 3\n",
      "4 5\n",
      "2 4\n",
      "3 4\n",
      "7 4\n",
      "8 4\n",
      "9 4\n",
      "7 5\n",
      "8 5\n",
      "9 5\n",
      "7 6\n",
      "8 6\n",
      "9 6\n",
      "5\n",
      "10 10 1\n",
      "5 5\n",
      "1\n"
     ]
    }
   ],
   "source": [
    "MAX = 50 +10\n",
    "\n",
    "dirR = [1,-1,0,0]\n",
    "dirC = [0,0,1,-1]\n",
    "\n",
    "def dfs(y,x):\n",
    "    global visited\n",
    "    visited[y][x] = True\n",
    "    for dirIdx in range(4):\n",
    "        newY = y + dirR[dirIdx]\n",
    "        newX = x + dirC[dirIdx]\n",
    "        if graph[newY][newX] and not visited[newY][newX]:\n",
    "            dfs(newY,newX)\n",
    "\n",
    "T = int(input())\n",
    "for _ in range(T):\n",
    "    M, N, K = map(int,input().split())\n",
    "    graph = [[False]*MAX for _ in range(MAX)]\n",
    "    visited = [[False]*MAX for _ in range(MAX)]\n",
    "    for _ in range(K):\n",
    "        x,y = map(int, input().split())\n",
    "        graph[y+1][x+1] = True\n",
    "    answer = 0\n",
    "    for i in range(1,N+1):\n",
    "        for j in range(1,M+1):\n",
    "            if graph[i][j] and not visited[i][j]:\n",
    "                dfs(i,j)\n",
    "                answer+=1\n",
    "    print(answer)"
   ]
  },
  {
   "cell_type": "code",
   "execution_count": 4,
   "id": "5c05b24e",
   "metadata": {},
   "outputs": [
    {
     "name": "stdout",
     "output_type": "stream",
     "text": [
      "3\n",
      "6\n"
     ]
    }
   ],
   "source": [
    "x = 0\n",
    "N = int(input())\n",
    "for i in range(1,N+1):\n",
    "    x += i\n",
    "print(x)"
   ]
  },
  {
   "cell_type": "code",
   "execution_count": null,
   "id": "2cd9708c",
   "metadata": {},
   "outputs": [],
   "source": [
    "def factorial(n, mod):\n",
    "    result = 1\n",
    "    for i in range(1, n + 1):\n",
    "        result = (result * i) % mod\n",
    "    return result\n",
    "\n",
    "def mod_inverse(x, mod):\n",
    "    return pow(x, -1, mod)\n",
    "\n",
    "def binomial_coefficient(n, k, mod):\n",
    "    if k == 0 or k == n:\n",
    "        return 1\n",
    "    if k > n:\n",
    "        return 0\n",
    "    \n",
    "    numerator = factorial(n, mod)\n",
    "    denominator = (factorial(k, mod) * factorial(n - k, mod)) % mod\n",
    "    return (numerator * mod_inverse(denominator, mod)) % mod\n",
    "\n",
    "N, K = map(int, input().split())\n",
    "mod = 1_000_000_007\n",
    "\n",
    "result = binomial_coefficient(N, K, mod)\n",
    "print(result) # 11401"
   ]
  },
  {
   "cell_type": "code",
   "execution_count": null,
   "id": "dc60e314",
   "metadata": {},
   "outputs": [],
   "source": [
    "def knapsack(N, K, weights, values):\n",
    "    dp = [[0] * (K + 1) for _ in range(N + 1)]\n",
    "\n",
    "    for i in range(1, N + 1):\n",
    "        for w in range(K + 1):\n",
    "            if weights[i - 1] > w:\n",
    "                dp[i][w] = dp[i - 1][w]\n",
    "            else:\n",
    "                dp[i][w] = max(dp[i - 1][w], dp[i - 1][w - weights[i - 1]] + values[i - 1])\n",
    "\n",
    "    return dp[N][K]\n",
    "\n",
    "# 입력 처리\n",
    "N, K = map(int, input().split())\n",
    "weights = []\n",
    "values = []\n",
    "\n",
    "for _ in range(N):\n",
    "    w, v = map(int, input().split())\n",
    "    weights.append(w)\n",
    "    values.append(v)\n",
    "\n",
    "# 결과 출력\n",
    "result = knapsack(N, K, weights, values)\n",
    "print(result) # 12865"
   ]
  },
  {
   "cell_type": "code",
   "execution_count": null,
   "id": "eeb899a3",
   "metadata": {},
   "outputs": [],
   "source": [
    "N = int(input())\n",
    "grid = [list(map(int, input().split())) for _ in range(N)]\n",
    "\n",
    "dp = [[0] * N for _ in range(N)]\n",
    "dp[0][0] = 1\n",
    "\n",
    "for i in range(N):\n",
    "    for j in range(N):\n",
    "        if i == N - 1 and j == N - 1: \n",
    "            break\n",
    "\n",
    "        dist = grid[i][j]\n",
    "\n",
    "        # 오른쪽으로 이동 가능한 경우\n",
    "        if j + dist < N:\n",
    "            dp[i][j + dist] += dp[i][j]\n",
    "\n",
    "        # 아래로 이동 가능한 경우\n",
    "        if i + dist < N:\n",
    "            dp[i + dist][j] += dp[i][j]\n",
    "\n",
    "print(dp[N - 1][N - 1]) # 1890"
   ]
  },
  {
   "cell_type": "code",
   "execution_count": null,
   "id": "160bda6e",
   "metadata": {},
   "outputs": [],
   "source": [
    "N = int(input())\n",
    "board = [list(map(int, input().split())) for _ in range(N)]\n",
    "\n",
    "# dp 배열 생성 및 초기화\n",
    "dp = [[0] * N for _ in range(N)]\n",
    "dp[0][0] = 1\n",
    "\n",
    "# 왼쪽 위에서 오른쪽 아래로 이동하며 dp 배열 업데이트\n",
    "for r in range(N):\n",
    "    for c in range(N):\n",
    "        if r == N - 1 and c == N - 1:\n",
    "            break\n",
    "        dist = board[r][c]\n",
    "        if r + dist < N:\n",
    "            dp[r + dist][c] += dp[r][c]\n",
    "        if c + dist < N:\n",
    "            dp[r][c + dist] += dp[r][c]\n",
    "\n",
    "# 오른쪽 아래 칸에 저장된 경로의 개수 출력\n",
    "print(dp[N - 1][N - 1]) # 3372"
   ]
  },
  {
   "cell_type": "code",
   "execution_count": null,
   "id": "fd9d6cce",
   "metadata": {},
   "outputs": [],
   "source": [
    "def solve():\n",
    "    N = int(input().rstrip())  # sys.stdin 대신 input() 사용\n",
    "    arr = [[0] * 10 for _ in range(N)]\n",
    "    for i in range(1, 10):\n",
    "        arr[0][i] = 1\n",
    "    for i in range(1, N):  # 변수 이름 'n'을 'N'으로 수정\n",
    "        arr[i][0] = arr[i-1][1]\n",
    "        arr[i][9] = arr[i-1][8]\n",
    "        for j in range(1, 9):\n",
    "            arr[i][j] = arr[i-1][j-1] + arr[i-1][j+1]\n",
    "    rst = 0\n",
    "    for i in range(10):\n",
    "        rst += arr[N-1][i]\n",
    "    print(rst % 1000000000)\n",
    "\n",
    "if __name__ == \"__main__\":\n",
    "    solve() # 10844"
   ]
  },
  {
   "cell_type": "code",
   "execution_count": null,
   "id": "e37732dc",
   "metadata": {},
   "outputs": [],
   "source": [
    "from collections import deque\n",
    "N = int(input())\n",
    "Queue = deque()\n",
    "for i in range(1,N+1):\n",
    "    Queue.append(i)\n",
    "while len(Queue)>1:\n",
    "    Queue.popleft()\n",
    "    item = Queue.popleft()\n",
    "    Queue.append(item)\n",
    "print(Queue[0]) # 2164"
   ]
  },
  {
   "cell_type": "code",
   "execution_count": null,
   "id": "15a29697",
   "metadata": {},
   "outputs": [],
   "source": [
    "T = int(input())\n",
    "for _ in range(T):\n",
    "    vps_sent = input()\n",
    "    stack = []\n",
    "    is_VPS = True\n",
    "    for i in vps_sent:\n",
    "        if i == '(':\n",
    "            stack.append(i)\n",
    "        elif i ==')':\n",
    "            if stack:\n",
    "                stack.pop()\n",
    "            else:\n",
    "                is_VPS = False\n",
    "                break\n",
    "    if is_VPS == False or stack:\n",
    "        print('NO')\n",
    "    else:\n",
    "        print('YES') # 9012"
   ]
  },
  {
   "cell_type": "code",
   "execution_count": null,
   "id": "d025338c",
   "metadata": {},
   "outputs": [],
   "source": [
    "N, K = map(int, input().split())\n",
    "coins = [int(input()) for _ in range(N)]\n",
    "\n",
    "count = 0  # 필요한 동전 개수를 저장할 변수\n",
    "\n",
    "for i in range(N - 1, -1, -1):\n",
    "    if K == 0:\n",
    "        break\n",
    "    if coins[i] <= K:\n",
    "        count += K // coins[i]\n",
    "        K %= coins[i]\n",
    "\n",
    "print(count) # 11047"
   ]
  },
  {
   "cell_type": "code",
   "execution_count": null,
   "id": "baae940a",
   "metadata": {},
   "outputs": [],
   "source": [
    "N = int(input())\n",
    "count = 0\n",
    "while N>=5:\n",
    "    N //= 5\n",
    "    count += N\n",
    "print(count) # 1676"
   ]
  },
  {
   "cell_type": "code",
   "execution_count": null,
   "id": "745c69b1",
   "metadata": {},
   "outputs": [],
   "source": [
    "from collections import deque\n",
    "Queue = deque()\n",
    "N = int(input())\n",
    "for i in range(1,N+1):\n",
    "    Queue.append(i)\n",
    "while len(Queue)>1:\n",
    "    print(Queue.popleft(),end=' ')\n",
    "    item = Queue.popleft()\n",
    "    Queue.append(item)\n",
    "print(Queue[0]) # 2161"
   ]
  },
  {
   "cell_type": "code",
   "execution_count": null,
   "id": "fc7fe6d2",
   "metadata": {},
   "outputs": [],
   "source": [
    "cnt = int(input())\n",
    "\n",
    "yaksu = list(map(int, input().split()))\n",
    "\n",
    "N = max(yaksu) * min(yaksu)\n",
    "\n",
    "print(N) # 1037"
   ]
  },
  {
   "cell_type": "code",
   "execution_count": null,
   "id": "8e0ce2a6",
   "metadata": {},
   "outputs": [],
   "source": [
    "while 1:\n",
    "    s = input() \n",
    "    if s == '0':\n",
    "        break  \n",
    "    is_palindrome = True\n",
    "    for index in range(len(s) // 2):\n",
    "        compare_index = -(index + 1)\n",
    "        if s[index] != s[compare_index]:\n",
    "            is_palindrome = False\n",
    "            break\n",
    "    if is_palindrome:\n",
    "        print('yes')\n",
    "    else:\n",
    "        print('no') # 1259"
   ]
  },
  {
   "cell_type": "code",
   "execution_count": null,
   "id": "6c1a6522",
   "metadata": {},
   "outputs": [],
   "source": [
    "dwarfs = [int(input()) for _ in range(9)]\n",
    "dwarfs.sort()\n",
    "for i in range(9):\n",
    "    for j in range(i+1, 9):\n",
    "        total_height = sum(dwarfs) - (dwarfs[i] + dwarfs[j])\n",
    "        if total_height == 100:\n",
    "            for k in range(9):\n",
    "                if k != i and k != j:\n",
    "                    print(dwarfs[k])\n",
    "            exit(0) # 2309"
   ]
  },
  {
   "cell_type": "code",
   "execution_count": null,
   "id": "7cd3f322",
   "metadata": {},
   "outputs": [],
   "source": [
    "T = int(input())\n",
    "for _ in range(T):\n",
    "    N = int(input())\n",
    "    max_uni = ''\n",
    "    max_cnt = -1\n",
    "    for _ in range(N):\n",
    "        univ , cnt = input().split()\n",
    "        cnt = int(cnt)\n",
    "        if cnt > max_cnt :\n",
    "            max_uni = univ\n",
    "            max_cnt = cnt\n",
    "    print(max_uni) # 11557"
   ]
  },
  {
   "cell_type": "code",
   "execution_count": null,
   "id": "604847d7",
   "metadata": {},
   "outputs": [],
   "source": [
    "hats = []\n",
    "for _ in range(9):\n",
    "    hats.append(int(input()))\n",
    "for i in range(9):\n",
    "    for j in range(i + 1, 9):\n",
    "        total = sum(hats) - (hats[i] + hats[j])\n",
    "        if total == 100:\n",
    "            for k in range(9):\n",
    "                if k != i and k != j:\n",
    "                    print(hats[k])\n",
    "            break # 3040"
   ]
  },
  {
   "cell_type": "code",
   "execution_count": null,
   "id": "7cbcd3cf",
   "metadata": {},
   "outputs": [],
   "source": [
    "def fibo(n):\n",
    "    # base case\n",
    "    if n == 0 : return 0\n",
    "    if n == 1 : return 1  \n",
    "    result = fibo(n-1) + fibo(n-2)\n",
    "    return result\n",
    "\n",
    "n = int(input())\n",
    "ans = fibo(n)\n",
    "print(ans) # 10870"
   ]
  },
  {
   "cell_type": "code",
   "execution_count": null,
   "id": "09757636",
   "metadata": {},
   "outputs": [],
   "source": [
    "def is_palindrome(s):\n",
    "    return s == s[::-1]\n",
    "\n",
    "word = input()  \n",
    "if is_palindrome(word):\n",
    "    print(1)\n",
    "else:\n",
    "    print(0) # 10988"
   ]
  },
  {
   "cell_type": "code",
   "execution_count": null,
   "id": "d81fdf0b",
   "metadata": {},
   "outputs": [],
   "source": [
    "N = int(input())\n",
    "\n",
    "for i in range(1,N+1):\n",
    "    sent_stack = list(input().split())\n",
    "    print(f'Case #{i}:',end=' ')\n",
    "    while sent_stack:\n",
    "        print(sent_stack.pop(),end=' ') # 12605"
   ]
  },
  {
   "cell_type": "code",
   "execution_count": null,
   "id": "e0169a35",
   "metadata": {},
   "outputs": [],
   "source": [
    "H , M = map(int,input().split())\n",
    "X = int(input())\n",
    "M += X\n",
    "if M>= 60:\n",
    "    H += M //60\n",
    "    M %= 60\n",
    "    if H > 23 :\n",
    "        H %= 24\n",
    "print(H,M) # 2525"
   ]
  },
  {
   "cell_type": "code",
   "execution_count": null,
   "id": "22337e47",
   "metadata": {},
   "outputs": [],
   "source": [
    "x =int(input())\n",
    "y =int(input())\n",
    "print(x*(y%10))\n",
    "print(x*((y//10)%10))\n",
    "print(x*((y//100)%10))\n",
    "print(x*y) # 2588"
   ]
  },
  {
   "cell_type": "code",
   "execution_count": null,
   "id": "84658d4c",
   "metadata": {},
   "outputs": [],
   "source": [
    "H, M = map(int, input().split())\n",
    "M -= 45\n",
    "if M<0:\n",
    "    M += 60\n",
    "    H -= 1\n",
    "    if H < 0 :\n",
    "        H = 23\n",
    "print(H,M) # 2884"
   ]
  },
  {
   "cell_type": "code",
   "execution_count": null,
   "id": "d0fe8ad9",
   "metadata": {},
   "outputs": [],
   "source": [
    "T = int(input())\n",
    "\n",
    "for _ in range(T):\n",
    "    yonsei_score = 0  \n",
    "    korea_score = 0   \n",
    "\n",
    "    for _ in range(9):\n",
    "        Y, K = map(int, input().split())\n",
    "        yonsei_score += Y\n",
    "        korea_score += K\n",
    "\n",
    "    if yonsei_score > korea_score:\n",
    "        print(\"Yonsei\")\n",
    "    elif yonsei_score < korea_score:\n",
    "        print(\"Korea\")\n",
    "    else:\n",
    "        print(\"Draw\") # 10214"
   ]
  },
  {
   "cell_type": "code",
   "execution_count": null,
   "id": "4c202cd4",
   "metadata": {},
   "outputs": [],
   "source": []
  },
  {
   "cell_type": "code",
   "execution_count": null,
   "id": "9a3cf34a",
   "metadata": {},
   "outputs": [],
   "source": []
  },
  {
   "cell_type": "code",
   "execution_count": null,
   "id": "9aa4cf13",
   "metadata": {},
   "outputs": [],
   "source": []
  },
  {
   "cell_type": "code",
   "execution_count": null,
   "id": "a8089d16",
   "metadata": {},
   "outputs": [],
   "source": []
  },
  {
   "cell_type": "code",
   "execution_count": null,
   "id": "c70243a2",
   "metadata": {},
   "outputs": [],
   "source": []
  },
  {
   "cell_type": "code",
   "execution_count": null,
   "id": "305f33ba",
   "metadata": {},
   "outputs": [],
   "source": []
  },
  {
   "cell_type": "code",
   "execution_count": null,
   "id": "99e4ba5d",
   "metadata": {},
   "outputs": [],
   "source": []
  },
  {
   "cell_type": "code",
   "execution_count": null,
   "id": "286aa9c9",
   "metadata": {},
   "outputs": [],
   "source": []
  },
  {
   "cell_type": "code",
   "execution_count": null,
   "id": "a0cf26b3",
   "metadata": {},
   "outputs": [],
   "source": []
  },
  {
   "cell_type": "code",
   "execution_count": null,
   "id": "9d2ae7f3",
   "metadata": {},
   "outputs": [],
   "source": []
  },
  {
   "cell_type": "code",
   "execution_count": null,
   "id": "41b92eed",
   "metadata": {},
   "outputs": [],
   "source": []
  },
  {
   "cell_type": "code",
   "execution_count": null,
   "id": "c2ae676e",
   "metadata": {},
   "outputs": [],
   "source": []
  },
  {
   "cell_type": "code",
   "execution_count": null,
   "id": "d9abfe40",
   "metadata": {},
   "outputs": [],
   "source": []
  },
  {
   "cell_type": "code",
   "execution_count": null,
   "id": "49c560cd",
   "metadata": {},
   "outputs": [],
   "source": []
  },
  {
   "cell_type": "code",
   "execution_count": null,
   "id": "beb98059",
   "metadata": {},
   "outputs": [],
   "source": []
  },
  {
   "cell_type": "code",
   "execution_count": null,
   "id": "fa001451",
   "metadata": {},
   "outputs": [],
   "source": []
  },
  {
   "cell_type": "code",
   "execution_count": null,
   "id": "6198c8a3",
   "metadata": {},
   "outputs": [],
   "source": []
  },
  {
   "cell_type": "code",
   "execution_count": null,
   "id": "fb2f24c9",
   "metadata": {},
   "outputs": [],
   "source": []
  },
  {
   "cell_type": "code",
   "execution_count": null,
   "id": "7715286c",
   "metadata": {},
   "outputs": [],
   "source": []
  },
  {
   "cell_type": "code",
   "execution_count": null,
   "id": "3df30a37",
   "metadata": {},
   "outputs": [],
   "source": []
  },
  {
   "cell_type": "code",
   "execution_count": null,
   "id": "c76cdc51",
   "metadata": {},
   "outputs": [],
   "source": []
  },
  {
   "cell_type": "code",
   "execution_count": null,
   "id": "ad9e70a5",
   "metadata": {},
   "outputs": [],
   "source": []
  },
  {
   "cell_type": "code",
   "execution_count": null,
   "id": "1cebced0",
   "metadata": {},
   "outputs": [],
   "source": []
  },
  {
   "cell_type": "code",
   "execution_count": null,
   "id": "68e04fb9",
   "metadata": {},
   "outputs": [],
   "source": []
  },
  {
   "cell_type": "code",
   "execution_count": null,
   "id": "86e8070f",
   "metadata": {},
   "outputs": [],
   "source": []
  },
  {
   "cell_type": "code",
   "execution_count": null,
   "id": "7825820b",
   "metadata": {},
   "outputs": [],
   "source": []
  },
  {
   "cell_type": "code",
   "execution_count": null,
   "id": "2b817112",
   "metadata": {},
   "outputs": [],
   "source": []
  },
  {
   "cell_type": "code",
   "execution_count": null,
   "id": "f0790bc9",
   "metadata": {},
   "outputs": [],
   "source": []
  },
  {
   "cell_type": "code",
   "execution_count": null,
   "id": "862c38a3",
   "metadata": {},
   "outputs": [],
   "source": []
  },
  {
   "cell_type": "code",
   "execution_count": null,
   "id": "bf15efde",
   "metadata": {},
   "outputs": [],
   "source": []
  },
  {
   "cell_type": "code",
   "execution_count": null,
   "id": "0583cca5",
   "metadata": {},
   "outputs": [],
   "source": []
  },
  {
   "cell_type": "code",
   "execution_count": null,
   "id": "1d85e9e7",
   "metadata": {},
   "outputs": [],
   "source": []
  },
  {
   "cell_type": "code",
   "execution_count": null,
   "id": "dbba58ee",
   "metadata": {},
   "outputs": [],
   "source": []
  },
  {
   "cell_type": "code",
   "execution_count": null,
   "id": "30622260",
   "metadata": {},
   "outputs": [],
   "source": []
  },
  {
   "cell_type": "code",
   "execution_count": null,
   "id": "6bb6989b",
   "metadata": {},
   "outputs": [],
   "source": []
  },
  {
   "cell_type": "code",
   "execution_count": null,
   "id": "7fd7cd6b",
   "metadata": {},
   "outputs": [],
   "source": []
  },
  {
   "cell_type": "code",
   "execution_count": null,
   "id": "a6a7a4af",
   "metadata": {},
   "outputs": [],
   "source": []
  },
  {
   "cell_type": "code",
   "execution_count": null,
   "id": "87ebafdd",
   "metadata": {},
   "outputs": [],
   "source": []
  },
  {
   "cell_type": "code",
   "execution_count": null,
   "id": "b3fed172",
   "metadata": {},
   "outputs": [],
   "source": []
  },
  {
   "cell_type": "code",
   "execution_count": null,
   "id": "bd779081",
   "metadata": {},
   "outputs": [],
   "source": []
  },
  {
   "cell_type": "code",
   "execution_count": null,
   "id": "7463c164",
   "metadata": {},
   "outputs": [],
   "source": []
  },
  {
   "cell_type": "code",
   "execution_count": null,
   "id": "22a232ae",
   "metadata": {},
   "outputs": [],
   "source": []
  },
  {
   "cell_type": "code",
   "execution_count": null,
   "id": "b67d2b9e",
   "metadata": {},
   "outputs": [],
   "source": []
  },
  {
   "cell_type": "code",
   "execution_count": null,
   "id": "634285cc",
   "metadata": {},
   "outputs": [],
   "source": []
  },
  {
   "cell_type": "code",
   "execution_count": null,
   "id": "5f9b5950",
   "metadata": {},
   "outputs": [],
   "source": []
  },
  {
   "cell_type": "code",
   "execution_count": null,
   "id": "35f78f44",
   "metadata": {},
   "outputs": [],
   "source": []
  },
  {
   "cell_type": "code",
   "execution_count": null,
   "id": "fbfdd59f",
   "metadata": {},
   "outputs": [],
   "source": []
  },
  {
   "cell_type": "code",
   "execution_count": null,
   "id": "920e8bb1",
   "metadata": {},
   "outputs": [],
   "source": []
  },
  {
   "cell_type": "code",
   "execution_count": null,
   "id": "cbd915e9",
   "metadata": {},
   "outputs": [],
   "source": []
  },
  {
   "cell_type": "code",
   "execution_count": null,
   "id": "86cc2ae7",
   "metadata": {},
   "outputs": [],
   "source": []
  },
  {
   "cell_type": "code",
   "execution_count": null,
   "id": "b33b72ed",
   "metadata": {},
   "outputs": [],
   "source": []
  },
  {
   "cell_type": "code",
   "execution_count": null,
   "id": "ee47c7f6",
   "metadata": {},
   "outputs": [],
   "source": []
  },
  {
   "cell_type": "code",
   "execution_count": null,
   "id": "1000853d",
   "metadata": {},
   "outputs": [],
   "source": []
  },
  {
   "cell_type": "code",
   "execution_count": null,
   "id": "38bf8311",
   "metadata": {},
   "outputs": [],
   "source": []
  },
  {
   "cell_type": "code",
   "execution_count": null,
   "id": "8bc284b5",
   "metadata": {},
   "outputs": [],
   "source": []
  },
  {
   "cell_type": "code",
   "execution_count": null,
   "id": "ac566cc9",
   "metadata": {},
   "outputs": [],
   "source": []
  },
  {
   "cell_type": "code",
   "execution_count": null,
   "id": "705f0609",
   "metadata": {},
   "outputs": [],
   "source": []
  },
  {
   "cell_type": "code",
   "execution_count": null,
   "id": "888c7af5",
   "metadata": {},
   "outputs": [],
   "source": []
  },
  {
   "cell_type": "code",
   "execution_count": null,
   "id": "14585c68",
   "metadata": {},
   "outputs": [],
   "source": []
  },
  {
   "cell_type": "code",
   "execution_count": null,
   "id": "00375d07",
   "metadata": {},
   "outputs": [],
   "source": []
  },
  {
   "cell_type": "code",
   "execution_count": null,
   "id": "50a1526b",
   "metadata": {},
   "outputs": [],
   "source": []
  },
  {
   "cell_type": "code",
   "execution_count": null,
   "id": "dacdf026",
   "metadata": {},
   "outputs": [],
   "source": []
  },
  {
   "cell_type": "code",
   "execution_count": null,
   "id": "50960980",
   "metadata": {},
   "outputs": [],
   "source": []
  },
  {
   "cell_type": "code",
   "execution_count": null,
   "id": "dcc15ab0",
   "metadata": {},
   "outputs": [],
   "source": []
  },
  {
   "cell_type": "code",
   "execution_count": null,
   "id": "b02e56cd",
   "metadata": {},
   "outputs": [],
   "source": []
  },
  {
   "cell_type": "code",
   "execution_count": null,
   "id": "c8479256",
   "metadata": {},
   "outputs": [],
   "source": []
  },
  {
   "cell_type": "code",
   "execution_count": null,
   "id": "b40480a9",
   "metadata": {},
   "outputs": [],
   "source": []
  },
  {
   "cell_type": "code",
   "execution_count": null,
   "id": "713be96e",
   "metadata": {},
   "outputs": [],
   "source": []
  },
  {
   "cell_type": "code",
   "execution_count": null,
   "id": "5aadf213",
   "metadata": {},
   "outputs": [],
   "source": []
  },
  {
   "cell_type": "code",
   "execution_count": null,
   "id": "5944c7e1",
   "metadata": {},
   "outputs": [],
   "source": []
  },
  {
   "cell_type": "code",
   "execution_count": null,
   "id": "1689937a",
   "metadata": {},
   "outputs": [],
   "source": []
  },
  {
   "cell_type": "code",
   "execution_count": null,
   "id": "46c0c3b6",
   "metadata": {},
   "outputs": [],
   "source": []
  },
  {
   "cell_type": "code",
   "execution_count": null,
   "id": "90638edd",
   "metadata": {},
   "outputs": [],
   "source": []
  },
  {
   "cell_type": "code",
   "execution_count": null,
   "id": "92f276d2",
   "metadata": {},
   "outputs": [],
   "source": []
  },
  {
   "cell_type": "code",
   "execution_count": null,
   "id": "cf064a36",
   "metadata": {},
   "outputs": [],
   "source": []
  },
  {
   "cell_type": "code",
   "execution_count": null,
   "id": "5440e924",
   "metadata": {},
   "outputs": [],
   "source": []
  },
  {
   "cell_type": "code",
   "execution_count": null,
   "id": "c67e766a",
   "metadata": {},
   "outputs": [],
   "source": []
  },
  {
   "cell_type": "code",
   "execution_count": null,
   "id": "1a22fbce",
   "metadata": {},
   "outputs": [],
   "source": []
  },
  {
   "cell_type": "code",
   "execution_count": null,
   "id": "0ad34739",
   "metadata": {},
   "outputs": [],
   "source": []
  },
  {
   "cell_type": "code",
   "execution_count": null,
   "id": "2cf53f52",
   "metadata": {},
   "outputs": [],
   "source": []
  },
  {
   "cell_type": "code",
   "execution_count": null,
   "id": "f08f97d4",
   "metadata": {},
   "outputs": [],
   "source": []
  },
  {
   "cell_type": "code",
   "execution_count": null,
   "id": "3a7a2fdd",
   "metadata": {},
   "outputs": [],
   "source": []
  },
  {
   "cell_type": "code",
   "execution_count": null,
   "id": "e631808e",
   "metadata": {},
   "outputs": [],
   "source": []
  },
  {
   "cell_type": "code",
   "execution_count": null,
   "id": "c9e2b8d2",
   "metadata": {},
   "outputs": [],
   "source": []
  },
  {
   "cell_type": "code",
   "execution_count": null,
   "id": "caa0b361",
   "metadata": {},
   "outputs": [],
   "source": []
  },
  {
   "cell_type": "code",
   "execution_count": null,
   "id": "0f5207fc",
   "metadata": {},
   "outputs": [],
   "source": []
  },
  {
   "cell_type": "code",
   "execution_count": null,
   "id": "8b50ef1b",
   "metadata": {},
   "outputs": [],
   "source": []
  },
  {
   "cell_type": "code",
   "execution_count": null,
   "id": "64106b5a",
   "metadata": {},
   "outputs": [],
   "source": []
  },
  {
   "cell_type": "code",
   "execution_count": null,
   "id": "3788bc96",
   "metadata": {},
   "outputs": [],
   "source": []
  },
  {
   "cell_type": "code",
   "execution_count": null,
   "id": "fbef0179",
   "metadata": {},
   "outputs": [],
   "source": []
  },
  {
   "cell_type": "code",
   "execution_count": null,
   "id": "ec2b0414",
   "metadata": {},
   "outputs": [],
   "source": []
  },
  {
   "cell_type": "code",
   "execution_count": null,
   "id": "d850f1b6",
   "metadata": {},
   "outputs": [],
   "source": []
  },
  {
   "cell_type": "code",
   "execution_count": null,
   "id": "fbde155f",
   "metadata": {},
   "outputs": [],
   "source": []
  },
  {
   "cell_type": "code",
   "execution_count": null,
   "id": "4940552b",
   "metadata": {},
   "outputs": [],
   "source": []
  },
  {
   "cell_type": "code",
   "execution_count": null,
   "id": "84c5f326",
   "metadata": {},
   "outputs": [],
   "source": []
  },
  {
   "cell_type": "code",
   "execution_count": null,
   "id": "95c8b712",
   "metadata": {},
   "outputs": [],
   "source": []
  },
  {
   "cell_type": "code",
   "execution_count": null,
   "id": "89823375",
   "metadata": {},
   "outputs": [],
   "source": []
  },
  {
   "cell_type": "code",
   "execution_count": null,
   "id": "6bdc2d5f",
   "metadata": {},
   "outputs": [],
   "source": []
  },
  {
   "cell_type": "code",
   "execution_count": null,
   "id": "e9167f62",
   "metadata": {},
   "outputs": [],
   "source": []
  },
  {
   "cell_type": "code",
   "execution_count": null,
   "id": "9bef9fdc",
   "metadata": {},
   "outputs": [],
   "source": []
  },
  {
   "cell_type": "code",
   "execution_count": null,
   "id": "25f5bdfc",
   "metadata": {},
   "outputs": [],
   "source": []
  },
  {
   "cell_type": "code",
   "execution_count": null,
   "id": "db6c8106",
   "metadata": {},
   "outputs": [],
   "source": []
  },
  {
   "cell_type": "code",
   "execution_count": null,
   "id": "0a974c71",
   "metadata": {},
   "outputs": [],
   "source": []
  },
  {
   "cell_type": "code",
   "execution_count": null,
   "id": "4e40e873",
   "metadata": {},
   "outputs": [],
   "source": []
  },
  {
   "cell_type": "code",
   "execution_count": null,
   "id": "09ba7977",
   "metadata": {},
   "outputs": [],
   "source": []
  },
  {
   "cell_type": "code",
   "execution_count": null,
   "id": "8a32a42c",
   "metadata": {},
   "outputs": [],
   "source": []
  },
  {
   "cell_type": "code",
   "execution_count": null,
   "id": "b915a5d7",
   "metadata": {},
   "outputs": [],
   "source": []
  },
  {
   "cell_type": "code",
   "execution_count": null,
   "id": "a755df6a",
   "metadata": {},
   "outputs": [],
   "source": []
  },
  {
   "cell_type": "code",
   "execution_count": null,
   "id": "dd9ec83d",
   "metadata": {},
   "outputs": [],
   "source": []
  },
  {
   "cell_type": "code",
   "execution_count": null,
   "id": "58c7acca",
   "metadata": {},
   "outputs": [],
   "source": []
  },
  {
   "cell_type": "code",
   "execution_count": null,
   "id": "6d1ad1ef",
   "metadata": {},
   "outputs": [],
   "source": []
  },
  {
   "cell_type": "code",
   "execution_count": null,
   "id": "3b72e450",
   "metadata": {},
   "outputs": [],
   "source": []
  },
  {
   "cell_type": "code",
   "execution_count": null,
   "id": "a3c39a20",
   "metadata": {},
   "outputs": [],
   "source": []
  },
  {
   "cell_type": "code",
   "execution_count": null,
   "id": "3357ca0a",
   "metadata": {},
   "outputs": [],
   "source": []
  },
  {
   "cell_type": "code",
   "execution_count": null,
   "id": "1d5f898d",
   "metadata": {},
   "outputs": [],
   "source": []
  },
  {
   "cell_type": "code",
   "execution_count": null,
   "id": "b67fd1ab",
   "metadata": {},
   "outputs": [],
   "source": []
  },
  {
   "cell_type": "code",
   "execution_count": null,
   "id": "b90f0299",
   "metadata": {},
   "outputs": [],
   "source": []
  },
  {
   "cell_type": "code",
   "execution_count": null,
   "id": "9cef2cb9",
   "metadata": {},
   "outputs": [],
   "source": []
  },
  {
   "cell_type": "code",
   "execution_count": null,
   "id": "7b9a0f9a",
   "metadata": {},
   "outputs": [],
   "source": []
  },
  {
   "cell_type": "code",
   "execution_count": null,
   "id": "a61278c6",
   "metadata": {},
   "outputs": [],
   "source": []
  },
  {
   "cell_type": "code",
   "execution_count": null,
   "id": "4505a7b1",
   "metadata": {},
   "outputs": [],
   "source": []
  },
  {
   "cell_type": "code",
   "execution_count": null,
   "id": "b0f91f22",
   "metadata": {},
   "outputs": [],
   "source": []
  },
  {
   "cell_type": "code",
   "execution_count": null,
   "id": "39d17955",
   "metadata": {},
   "outputs": [],
   "source": []
  },
  {
   "cell_type": "code",
   "execution_count": null,
   "id": "22587791",
   "metadata": {},
   "outputs": [],
   "source": []
  },
  {
   "cell_type": "code",
   "execution_count": null,
   "id": "9ab35de3",
   "metadata": {},
   "outputs": [],
   "source": []
  },
  {
   "cell_type": "code",
   "execution_count": null,
   "id": "36fb03c6",
   "metadata": {},
   "outputs": [],
   "source": []
  },
  {
   "cell_type": "code",
   "execution_count": null,
   "id": "124c594b",
   "metadata": {},
   "outputs": [],
   "source": []
  },
  {
   "cell_type": "code",
   "execution_count": null,
   "id": "6116ef4e",
   "metadata": {},
   "outputs": [],
   "source": []
  },
  {
   "cell_type": "code",
   "execution_count": null,
   "id": "29449c12",
   "metadata": {},
   "outputs": [],
   "source": []
  },
  {
   "cell_type": "code",
   "execution_count": null,
   "id": "c023d023",
   "metadata": {},
   "outputs": [],
   "source": []
  },
  {
   "cell_type": "code",
   "execution_count": null,
   "id": "98d68678",
   "metadata": {},
   "outputs": [],
   "source": []
  },
  {
   "cell_type": "code",
   "execution_count": null,
   "id": "e6941d82",
   "metadata": {},
   "outputs": [],
   "source": []
  },
  {
   "cell_type": "code",
   "execution_count": null,
   "id": "c5938821",
   "metadata": {},
   "outputs": [],
   "source": []
  },
  {
   "cell_type": "code",
   "execution_count": null,
   "id": "0605f07d",
   "metadata": {},
   "outputs": [],
   "source": []
  },
  {
   "cell_type": "code",
   "execution_count": null,
   "id": "7a05e003",
   "metadata": {},
   "outputs": [],
   "source": []
  },
  {
   "cell_type": "code",
   "execution_count": null,
   "id": "75eca54c",
   "metadata": {},
   "outputs": [],
   "source": []
  },
  {
   "cell_type": "code",
   "execution_count": null,
   "id": "d2a70e7c",
   "metadata": {},
   "outputs": [],
   "source": []
  },
  {
   "cell_type": "code",
   "execution_count": null,
   "id": "3c24addd",
   "metadata": {},
   "outputs": [],
   "source": []
  },
  {
   "cell_type": "code",
   "execution_count": null,
   "id": "1e764cf3",
   "metadata": {},
   "outputs": [],
   "source": []
  },
  {
   "cell_type": "code",
   "execution_count": null,
   "id": "03df11a6",
   "metadata": {},
   "outputs": [],
   "source": []
  },
  {
   "cell_type": "code",
   "execution_count": null,
   "id": "e9681066",
   "metadata": {},
   "outputs": [],
   "source": []
  },
  {
   "cell_type": "code",
   "execution_count": null,
   "id": "90ff237c",
   "metadata": {},
   "outputs": [],
   "source": []
  },
  {
   "cell_type": "code",
   "execution_count": null,
   "id": "cd6957d1",
   "metadata": {},
   "outputs": [],
   "source": []
  },
  {
   "cell_type": "code",
   "execution_count": null,
   "id": "e4fae4c3",
   "metadata": {},
   "outputs": [],
   "source": []
  },
  {
   "cell_type": "code",
   "execution_count": null,
   "id": "1a5d01a4",
   "metadata": {},
   "outputs": [],
   "source": []
  },
  {
   "cell_type": "code",
   "execution_count": null,
   "id": "80977dae",
   "metadata": {},
   "outputs": [],
   "source": []
  },
  {
   "cell_type": "code",
   "execution_count": null,
   "id": "b00c8e18",
   "metadata": {},
   "outputs": [],
   "source": []
  },
  {
   "cell_type": "code",
   "execution_count": null,
   "id": "749a4498",
   "metadata": {},
   "outputs": [],
   "source": []
  },
  {
   "cell_type": "code",
   "execution_count": null,
   "id": "e55ae744",
   "metadata": {},
   "outputs": [],
   "source": []
  },
  {
   "cell_type": "code",
   "execution_count": null,
   "id": "8110f45a",
   "metadata": {},
   "outputs": [],
   "source": []
  },
  {
   "cell_type": "code",
   "execution_count": null,
   "id": "3957b23c",
   "metadata": {},
   "outputs": [],
   "source": []
  },
  {
   "cell_type": "code",
   "execution_count": null,
   "id": "be77af00",
   "metadata": {},
   "outputs": [],
   "source": []
  },
  {
   "cell_type": "code",
   "execution_count": null,
   "id": "678d19ea",
   "metadata": {},
   "outputs": [],
   "source": []
  },
  {
   "cell_type": "code",
   "execution_count": null,
   "id": "cbcc2d19",
   "metadata": {},
   "outputs": [],
   "source": []
  },
  {
   "cell_type": "code",
   "execution_count": null,
   "id": "3383ae85",
   "metadata": {},
   "outputs": [],
   "source": []
  },
  {
   "cell_type": "code",
   "execution_count": null,
   "id": "3ecef2d3",
   "metadata": {},
   "outputs": [],
   "source": []
  },
  {
   "cell_type": "code",
   "execution_count": null,
   "id": "01e0a2b2",
   "metadata": {},
   "outputs": [],
   "source": []
  },
  {
   "cell_type": "code",
   "execution_count": null,
   "id": "e2a1010b",
   "metadata": {},
   "outputs": [],
   "source": []
  },
  {
   "cell_type": "code",
   "execution_count": null,
   "id": "e8864ddd",
   "metadata": {},
   "outputs": [],
   "source": []
  },
  {
   "cell_type": "code",
   "execution_count": null,
   "id": "9bb821a8",
   "metadata": {},
   "outputs": [],
   "source": []
  },
  {
   "cell_type": "code",
   "execution_count": null,
   "id": "fea75317",
   "metadata": {},
   "outputs": [],
   "source": []
  },
  {
   "cell_type": "code",
   "execution_count": null,
   "id": "aa2d9fec",
   "metadata": {},
   "outputs": [],
   "source": []
  },
  {
   "cell_type": "code",
   "execution_count": null,
   "id": "10d40ecc",
   "metadata": {},
   "outputs": [],
   "source": []
  },
  {
   "cell_type": "code",
   "execution_count": null,
   "id": "2b81cd6d",
   "metadata": {},
   "outputs": [],
   "source": []
  },
  {
   "cell_type": "code",
   "execution_count": null,
   "id": "6d5e4502",
   "metadata": {},
   "outputs": [],
   "source": []
  },
  {
   "cell_type": "code",
   "execution_count": null,
   "id": "813420a7",
   "metadata": {},
   "outputs": [],
   "source": []
  },
  {
   "cell_type": "code",
   "execution_count": null,
   "id": "fb177ffb",
   "metadata": {},
   "outputs": [],
   "source": []
  },
  {
   "cell_type": "code",
   "execution_count": null,
   "id": "134bbaa0",
   "metadata": {},
   "outputs": [],
   "source": []
  },
  {
   "cell_type": "code",
   "execution_count": null,
   "id": "123b052e",
   "metadata": {},
   "outputs": [],
   "source": []
  },
  {
   "cell_type": "code",
   "execution_count": null,
   "id": "d676f255",
   "metadata": {},
   "outputs": [],
   "source": []
  },
  {
   "cell_type": "code",
   "execution_count": null,
   "id": "dcdc37bb",
   "metadata": {},
   "outputs": [],
   "source": []
  },
  {
   "cell_type": "code",
   "execution_count": null,
   "id": "e4ef61fc",
   "metadata": {},
   "outputs": [],
   "source": []
  },
  {
   "cell_type": "code",
   "execution_count": null,
   "id": "4d712ede",
   "metadata": {},
   "outputs": [],
   "source": []
  },
  {
   "cell_type": "code",
   "execution_count": null,
   "id": "cbe468b6",
   "metadata": {},
   "outputs": [],
   "source": []
  },
  {
   "cell_type": "code",
   "execution_count": null,
   "id": "951781f9",
   "metadata": {},
   "outputs": [],
   "source": []
  },
  {
   "cell_type": "code",
   "execution_count": null,
   "id": "3160d4cd",
   "metadata": {},
   "outputs": [],
   "source": []
  },
  {
   "cell_type": "code",
   "execution_count": null,
   "id": "dee30caa",
   "metadata": {},
   "outputs": [],
   "source": []
  },
  {
   "cell_type": "code",
   "execution_count": null,
   "id": "f2d5e813",
   "metadata": {},
   "outputs": [],
   "source": []
  },
  {
   "cell_type": "code",
   "execution_count": null,
   "id": "af4171ac",
   "metadata": {},
   "outputs": [],
   "source": []
  },
  {
   "cell_type": "code",
   "execution_count": null,
   "id": "6a31b535",
   "metadata": {},
   "outputs": [],
   "source": []
  },
  {
   "cell_type": "code",
   "execution_count": null,
   "id": "4de69b79",
   "metadata": {},
   "outputs": [],
   "source": []
  },
  {
   "cell_type": "code",
   "execution_count": null,
   "id": "107103c7",
   "metadata": {},
   "outputs": [],
   "source": []
  },
  {
   "cell_type": "code",
   "execution_count": null,
   "id": "e7253137",
   "metadata": {},
   "outputs": [],
   "source": []
  },
  {
   "cell_type": "code",
   "execution_count": null,
   "id": "878082ee",
   "metadata": {},
   "outputs": [],
   "source": []
  },
  {
   "cell_type": "code",
   "execution_count": null,
   "id": "53331250",
   "metadata": {},
   "outputs": [],
   "source": []
  },
  {
   "cell_type": "code",
   "execution_count": null,
   "id": "795ffb31",
   "metadata": {},
   "outputs": [],
   "source": []
  },
  {
   "cell_type": "code",
   "execution_count": null,
   "id": "5de646b8",
   "metadata": {},
   "outputs": [],
   "source": []
  },
  {
   "cell_type": "code",
   "execution_count": null,
   "id": "7491f9c6",
   "metadata": {},
   "outputs": [],
   "source": []
  },
  {
   "cell_type": "code",
   "execution_count": null,
   "id": "aedb9857",
   "metadata": {},
   "outputs": [],
   "source": []
  },
  {
   "cell_type": "code",
   "execution_count": null,
   "id": "fd5fd610",
   "metadata": {},
   "outputs": [],
   "source": []
  },
  {
   "cell_type": "code",
   "execution_count": null,
   "id": "b1369fb0",
   "metadata": {},
   "outputs": [],
   "source": []
  },
  {
   "cell_type": "code",
   "execution_count": null,
   "id": "41fd3ee5",
   "metadata": {},
   "outputs": [],
   "source": []
  },
  {
   "cell_type": "code",
   "execution_count": null,
   "id": "268672a7",
   "metadata": {},
   "outputs": [],
   "source": []
  },
  {
   "cell_type": "code",
   "execution_count": null,
   "id": "98420c5d",
   "metadata": {},
   "outputs": [],
   "source": []
  },
  {
   "cell_type": "code",
   "execution_count": null,
   "id": "ec555421",
   "metadata": {},
   "outputs": [],
   "source": []
  },
  {
   "cell_type": "code",
   "execution_count": null,
   "id": "f7c63d95",
   "metadata": {},
   "outputs": [],
   "source": []
  },
  {
   "cell_type": "code",
   "execution_count": null,
   "id": "6972b142",
   "metadata": {},
   "outputs": [],
   "source": []
  },
  {
   "cell_type": "code",
   "execution_count": null,
   "id": "3d7d7cae",
   "metadata": {},
   "outputs": [],
   "source": []
  },
  {
   "cell_type": "code",
   "execution_count": null,
   "id": "e73f9171",
   "metadata": {},
   "outputs": [],
   "source": []
  },
  {
   "cell_type": "code",
   "execution_count": null,
   "id": "5cae2a9b",
   "metadata": {},
   "outputs": [],
   "source": []
  },
  {
   "cell_type": "code",
   "execution_count": null,
   "id": "55cb8776",
   "metadata": {},
   "outputs": [],
   "source": []
  },
  {
   "cell_type": "code",
   "execution_count": null,
   "id": "dd2f3f11",
   "metadata": {},
   "outputs": [],
   "source": []
  },
  {
   "cell_type": "code",
   "execution_count": null,
   "id": "a26d34db",
   "metadata": {},
   "outputs": [],
   "source": []
  },
  {
   "cell_type": "code",
   "execution_count": null,
   "id": "feebadad",
   "metadata": {},
   "outputs": [],
   "source": []
  },
  {
   "cell_type": "code",
   "execution_count": null,
   "id": "e572c87f",
   "metadata": {},
   "outputs": [],
   "source": []
  },
  {
   "cell_type": "code",
   "execution_count": null,
   "id": "c68d6454",
   "metadata": {},
   "outputs": [],
   "source": []
  },
  {
   "cell_type": "code",
   "execution_count": null,
   "id": "3f021bed",
   "metadata": {},
   "outputs": [],
   "source": []
  },
  {
   "cell_type": "code",
   "execution_count": null,
   "id": "d1aa123e",
   "metadata": {},
   "outputs": [],
   "source": []
  },
  {
   "cell_type": "code",
   "execution_count": null,
   "id": "ab38d583",
   "metadata": {},
   "outputs": [],
   "source": []
  },
  {
   "cell_type": "code",
   "execution_count": null,
   "id": "ee7181b6",
   "metadata": {},
   "outputs": [],
   "source": []
  },
  {
   "cell_type": "code",
   "execution_count": null,
   "id": "6b739072",
   "metadata": {},
   "outputs": [],
   "source": []
  },
  {
   "cell_type": "code",
   "execution_count": null,
   "id": "ec186bec",
   "metadata": {},
   "outputs": [],
   "source": []
  },
  {
   "cell_type": "code",
   "execution_count": null,
   "id": "76e4753b",
   "metadata": {},
   "outputs": [],
   "source": []
  },
  {
   "cell_type": "code",
   "execution_count": null,
   "id": "4326c9c0",
   "metadata": {},
   "outputs": [],
   "source": []
  },
  {
   "cell_type": "code",
   "execution_count": null,
   "id": "78f5f1a5",
   "metadata": {},
   "outputs": [],
   "source": []
  },
  {
   "cell_type": "code",
   "execution_count": null,
   "id": "7a1e57d0",
   "metadata": {},
   "outputs": [],
   "source": []
  },
  {
   "cell_type": "code",
   "execution_count": null,
   "id": "f4a1f645",
   "metadata": {},
   "outputs": [],
   "source": []
  }
 ],
 "metadata": {
  "kernelspec": {
   "display_name": "Python 3 (ipykernel)",
   "language": "python",
   "name": "python3"
  },
  "language_info": {
   "codemirror_mode": {
    "name": "ipython",
    "version": 3
   },
   "file_extension": ".py",
   "mimetype": "text/x-python",
   "name": "python",
   "nbconvert_exporter": "python",
   "pygments_lexer": "ipython3",
   "version": "3.11.4"
  }
 },
 "nbformat": 4,
 "nbformat_minor": 5
}
